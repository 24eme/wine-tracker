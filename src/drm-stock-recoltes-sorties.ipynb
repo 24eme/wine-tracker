{
 "cells": [
  {
   "cell_type": "code",
   "execution_count": null,
   "id": "weird-found",
   "metadata": {},
   "outputs": [],
   "source": [
    "import pandas as pd\n",
    "import numpy as np\n",
    "import plotly.express as px\n",
    "import argparse\n",
    "import pathlib"
   ]
  },
  {
   "cell_type": "code",
   "execution_count": null,
   "id": "numerical-melbourne",
   "metadata": {},
   "outputs": [],
   "source": [
    "path = pathlib.Path().absolute()\n",
    "path = str(path).replace(\"src\",\"\")\n",
    "dossier_graphes=path+\"/graphes/\"\n",
    "csv = path+\"/data/drm/export_bi_drm_stock.csv\"  #il manque un ; à la fin du header.\n",
    "source = \"DRM Inter-Rhône\""
   ]
  },
  {
   "cell_type": "code",
   "execution_count": null,
   "id": "macro-minutes",
   "metadata": {},
   "outputs": [],
   "source": [
    "#arguments\n",
    "id_operateur=None\n",
    "\n",
    "parser = argparse.ArgumentParser()\n",
    "parser.add_argument(\"id_operateur\", help=\"Identifiant opérateur\", default=id_operateur, nargs='?')\n",
    "\n",
    "try:\n",
    "   args = parser.parse_args()\n",
    "   id_operateur = args.id_operateur\n",
    "except:\n",
    "   print(\"Arguments pas défaut\")"
   ]
  },
  {
   "cell_type": "code",
   "execution_count": null,
   "id": "incorporated-aberdeen",
   "metadata": {},
   "outputs": [],
   "source": [
    "#préparations des données de l'opérateur sans filtres\n",
    "drm = pd.read_csv(csv, sep=\";\",encoding=\"latin1\")\n",
    "\n",
    "lastcampagnes = drm['campagne'].unique()\n",
    "lastcampagnes.sort()\n",
    "lastcampagnes = lastcampagnes[-10:]\n",
    "\n",
    "if(id_operateur):\n",
    "    drm = drm.query(\"identifiant == @id_operateur\").reset_index()\n",
    "\n",
    "drm = drm.query('campagne in @lastcampagnes')"
   ]
  },
  {
   "cell_type": "code",
   "execution_count": null,
   "id": "progressive-johnson",
   "metadata": {},
   "outputs": [],
   "source": [
    "#pour les volumes récoltés :\n",
    "\n",
    "csv_mouvements = path+\"/data/drm/export_bi_mouvements.csv\"  #il manque un ; à la fin du header.\n",
    "mouvements = pd.read_csv(csv_mouvements, sep=\";\",encoding=\"latin1\")\n",
    "\n",
    "mouvements.rename(columns = {'identifiant declarant':'identifiant','type de mouvement':'type_de_mouvement','certification':'certifications','genre':'genres','appellation':'appellations','mention':'mentions','lieu':'lieux','couleur':'couleurs'}, inplace = True)\n",
    "mouvements = mouvements.query(\"type_de_mouvement == 'entrees/recolte'\")\n",
    "\n",
    "if(id_operateur):\n",
    "    mouvements = mouvements.query(\"identifiant == @id_operateur\").reset_index()\n",
    "\n",
    "mouvements = mouvements.query('campagne in @lastcampagnes')\n",
    "\n",
    "mouvements.rename(columns = {'volume mouvement':'entree'}, inplace = True)\n",
    "\n",
    "#mouvements"
   ]
  },
  {
   "cell_type": "code",
   "execution_count": null,
   "id": "future-constant",
   "metadata": {},
   "outputs": [],
   "source": [
    "drm['filtre_produit'] = drm['appellations'] + \"-\" + drm['lieux'] + \"-\" +drm['certifications']+ \"-\" +drm['genres']+ \"-\" +drm['mentions']\n",
    "mouvements['filtre_produit'] = mouvements['appellations'] + \"-\" + mouvements['lieux'] + \"-\" +mouvements['certifications']+ \"-\" +mouvements['genres']+ \"-\" +mouvements['mentions']"
   ]
  },
  {
   "cell_type": "code",
   "execution_count": null,
   "id": "controlled-front",
   "metadata": {},
   "outputs": [],
   "source": [
    "# PAR APPELLATION ET COULEUR\n",
    "\n",
    "#SOMME PRODUCTION DEPUIS LES MOUVEMENTS : RECOLTES\n",
    "drm_production = mouvements.groupby([\"identifiant\", \"campagne\",\"filtre_produit\", \"couleurs\"]).sum([\"entree\"])[[\"entree\"]]\n",
    "\n",
    "#SOMME SORTIES\n",
    "drm_sortie = drm.groupby([\"identifiant\", \"campagne\",\"filtre_produit\", \"couleurs\"]).sum([\"sortie\"])[[\"sortie\"]]\n",
    "\n",
    "#SOMME STOCK DEBUT DE CAMPAGNE\n",
    "drm_stock_debut = drm\n",
    "drm_stock_debut['debut_campagne'] = drm[\"date\"].str.lower().str.endswith(\"08\")\n",
    "drm_stock_debut = drm_stock_debut.query(\"debut_campagne == True\")\n",
    "drm_stock_debut = drm_stock_debut.groupby([\"identifiant\", \"campagne\",\"filtre_produit\", \"couleurs\"]).sum([\"stock debut\"])[[\"stock debut\"]]\n",
    "\n",
    "df_final = pd.merge(drm_production, drm_sortie,how='outer', on=[\"identifiant\", \"campagne\",\"filtre_produit\", \"couleurs\"])\n",
    "df_final = pd.merge(df_final, drm_stock_debut ,how='outer', on=[\"identifiant\", \"campagne\",\"filtre_produit\", \"couleurs\"])\n",
    "\n",
    "df_final = df_final.reset_index()\n",
    "\n",
    "df_final['couleurs'] = df_final['couleurs'].str.upper()\n",
    "\n",
    "df_final.index = [df_final['identifiant'],df_final['filtre_produit'],df_final['couleurs']]\n",
    "df_final.rename(columns = {'stock debut': 'Stock physique en début de camp production (hl)','entree' : 'Production (hl)', 'sortie' : 'Sorties de chais (hl)'}, inplace = True)\n",
    "\n",
    "\n",
    "#df_final"
   ]
  },
  {
   "cell_type": "code",
   "execution_count": null,
   "id": "light-wilderness",
   "metadata": {},
   "outputs": [],
   "source": [
    "# PAR APPELLATIONS\n",
    "\n",
    "drm_production_spe_all = drm_production.groupby([\"identifiant\",\"campagne\",\"filtre_produit\"]).sum([\"entree\"])[[\"entree\"]]\n",
    "drm_sortie_spe_all = drm_sortie.groupby([\"identifiant\", \"campagne\",\"filtre_produit\"]).sum([\"sortie\"])[[\"sortie\"]]\n",
    "drm_stock_debut_spe_all = drm_stock_debut.groupby([\"identifiant\", \"campagne\",\"filtre_produit\"]).sum([\"stock debut\"])[[\"stock debut\"]]\n",
    "\n",
    "drm_merge_spe_all = pd.merge(drm_production_spe_all, drm_sortie_spe_all,how='outer', on=[\"identifiant\", \"campagne\",\"filtre_produit\"])\n",
    "drm_merge_spe_all = pd.merge(drm_merge_spe_all, drm_stock_debut_spe_all ,how='outer', on=[\"identifiant\", \"campagne\",\"filtre_produit\"])\n",
    "\n",
    "drm_merge_spe_all = drm_merge_spe_all.reset_index()\n",
    "\n",
    "drm_merge_spe_all['couleurs'] = \"TOUT\"\n",
    "\n",
    "drm_merge_spe_all.index = [drm_merge_spe_all['identifiant'],drm_merge_spe_all['filtre_produit'],drm_merge_spe_all['couleurs']]\n",
    "\n",
    "drm_merge_spe_all.rename(columns = {'stock debut': 'Stock physique en début de camp production (hl)','entree' : 'Production (hl)', 'sortie' : 'Sorties de chais (hl)'}, inplace = True)\n",
    "\n",
    "#drm_merge_spe_all"
   ]
  },
  {
   "cell_type": "code",
   "execution_count": null,
   "id": "boring-intersection",
   "metadata": {},
   "outputs": [],
   "source": [
    "#AUCUN FILTRE TOUTES LES APPELLATIONS ET TOUTES LES COULEURS\n",
    "\n",
    "drm_production_all_all = drm_production_spe_all.groupby([\"identifiant\",\"campagne\"]).sum([\"entree\"])[[\"entree\"]]\n",
    "drm_sortie_all_all = drm_sortie_spe_all.groupby([\"identifiant\", \"campagne\"]).sum([\"sortie\"])[[\"sortie\"]]\n",
    "drm_stock_debut_all_all = drm_stock_debut.groupby([\"identifiant\", \"campagne\"]).sum([\"stock debut\"])[[\"stock debut\"]]\n",
    "\n",
    "\n",
    "drm_merge_all_all = pd.merge(drm_production_all_all, drm_sortie_all_all,how='outer', on=[\"identifiant\", \"campagne\"])\n",
    "drm_merge_all_all = pd.merge(drm_merge_all_all, drm_stock_debut_all_all ,how='outer', on=[\"identifiant\", \"campagne\"])\n",
    "\n",
    "drm_merge_all_all = drm_merge_all_all.reset_index()\n",
    "\n",
    "drm_merge_all_all['filtre_produit'] = \"TOUT\"\n",
    "drm_merge_all_all['couleurs'] = \"TOUT\"\n",
    "\n",
    "drm_merge_all_all.rename(columns = {'stock debut': 'Stock physique en début de camp production (hl)','entree' : 'Production (hl)', 'sortie' : 'Sorties de chais (hl)'}, inplace = True)\n",
    "drm_merge_all_all.index = [drm_merge_all_all['identifiant'],drm_merge_all_all['filtre_produit'],drm_merge_all_all['couleurs']]\n",
    "\n",
    "#drm_merge_all_all"
   ]
  },
  {
   "cell_type": "code",
   "execution_count": null,
   "id": "sophisticated-brunei",
   "metadata": {},
   "outputs": [],
   "source": [
    "df_final = pd.concat([df_final, drm_merge_spe_all])\n",
    "\n",
    "df_final = pd.concat([df_final, drm_merge_all_all])\n",
    "\n",
    "df_final.drop(['identifiant','filtre_produit',\"couleurs\"], axis=1, inplace=True)\n",
    "\n",
    "df_final = df_final.sort_values(by=['identifiant', 'filtre_produit','couleurs'])\n",
    "\n",
    "df_final = df_final.fillna(0)\n",
    "\n",
    "#df_final"
   ]
  },
  {
   "cell_type": "code",
   "execution_count": null,
   "id": "average-negative",
   "metadata": {},
   "outputs": [],
   "source": [
    "def create_graphique(final,identifiant,appellation,couleur):\n",
    "\n",
    "    # CREATION DU GRAPHE\n",
    "    fig = px.line(final, x=\"campagne\", y=\"value\", color='variable', markers=True, symbol=\"variable\",color_discrete_sequence=[\"blue\",\"green\",\"#d1342f\"],\n",
    "                  title=\"Ma cave\")\n",
    "    fig.update_traces(mode=\"markers+lines\", hovertemplate=None)\n",
    "    fig.update_layout(hovermode=\"x\")\n",
    "    fig.update_layout(title={\n",
    "                        'text': \"<b>MA CAVE</b>\",\n",
    "                        'y':0.9,\n",
    "                        'x':0.5,\n",
    "                        'xanchor': 'center',\n",
    "                        'yanchor': 'top'},\n",
    "                      title_font_size=24,\n",
    "                      title_font_color=\"rgb(231, 80, 71)\",\n",
    "                      xaxis_title=None,\n",
    "                      yaxis_title=None,\n",
    "                      legend_title=None,\n",
    "                      paper_bgcolor=\"white\",\n",
    "                      plot_bgcolor = \"white\",\n",
    "                      yaxis=dict(tickformat=\".0f\"),\n",
    "                      legend=dict(orientation=\"h\",xanchor = \"center\",x = 0.5),\n",
    "                      legend_itemdoubleclick=False\n",
    "                     )\n",
    "    fig.for_each_xaxis(lambda x: x.update(showgrid=False))\n",
    "    fig.for_each_yaxis(lambda x: x.update(gridcolor='Lightgrey'))\n",
    "    fig.update_xaxes(fixedrange=True,showline=True, linewidth=1, linecolor='Lightgrey')\n",
    "    fig.update_yaxes(fixedrange=True,rangemode=\"tozero\")\n",
    "\n",
    "    #fig.show()\n",
    "\n",
    "    dossier = dossier_graphes+\"/\"+identifiant+\"/drm/\"+appellation+\"-\"+couleur\n",
    "    pathlib.Path(dossier).mkdir(parents=True, exist_ok=True)\n",
    "\n",
    "    fig.write_html(dossier+\"/drm-stock-recoltes-sorties.html\",include_plotlyjs=False)\n",
    "\n",
    "    return"
   ]
  },
  {
   "cell_type": "code",
   "execution_count": null,
   "id": "statistical-session",
   "metadata": {},
   "outputs": [],
   "source": [
    "for bloc in df_final.index.unique():\n",
    "    df = df_final.loc[[bloc]]\n",
    "    df = df.reset_index()\n",
    "\n",
    "    for campagne in lastcampagnes:\n",
    "        if campagne not in df.campagne.unique()[::-1] :\n",
    "            df.loc[len(df)] = [bloc[0], bloc[1], bloc[2], campagne, 0, 0, 0]\n",
    "    \n",
    "    df = df.sort_values(by=['campagne'])\n",
    "    df = df.reset_index(drop=True)\n",
    "    \n",
    "    df = pd.melt(df, id_vars=['identifiant','filtre_produit','couleurs','campagne'], value_vars=['Stock physique en début de camp production (hl)','Production (hl)','Sorties de chais (hl)'])\n",
    "    create_graphique(df,bloc[0],bloc[1],bloc[2])"
   ]
  }
 ],
 "metadata": {
  "kernelspec": {
   "display_name": "Python 3",
   "language": "python",
   "name": "python3"
  },
  "language_info": {
   "codemirror_mode": {
    "name": "ipython",
    "version": 3
   },
   "file_extension": ".py",
   "mimetype": "text/x-python",
   "name": "python",
   "nbconvert_exporter": "python",
   "pygments_lexer": "ipython3",
   "version": "3.9.2"
  }
 },
 "nbformat": 4,
 "nbformat_minor": 5
}
