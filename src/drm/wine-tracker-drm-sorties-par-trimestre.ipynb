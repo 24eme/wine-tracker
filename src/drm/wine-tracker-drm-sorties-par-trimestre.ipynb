{
 "cells": [
  {
   "cell_type": "code",
   "execution_count": null,
   "id": "educational-seeking",
   "metadata": {},
   "outputs": [],
   "source": [
    "import pandas as pd\n",
    "import plotly.express as px\n",
    "import argparse\n",
    "import pathlib"
   ]
  },
  {
   "cell_type": "code",
   "execution_count": null,
   "id": "parental-borough",
   "metadata": {},
   "outputs": [],
   "source": [
    "path = pathlib.Path().absolute()\n",
    "path = str(path).replace(\"src/drm\",\"\")\n",
    "dossier_graphes=path+\"/graphes/\"\n",
    "csv = path+\"/data/drm/export_bi_mouvements.csv\"  #il manque un ; à la fin du header.\n",
    "source = \"DRM Inter-Rhône\"\n",
    "\n",
    "mois = { \"08\" : \"Août\" , \"09\" : \"Septembre\", \"10\" : \"Octobre\", \"11\" : \"Novembre\" , \"12\" : \"Décembre\",\n",
    "        \"01\" : \"Janvier\", \"02\" : \"Février\", \"03\" : \"Mars\", \"04\" : \"Avril\", \"05\" : \"Mai\", \"06\" : \"Juin\",\n",
    "        \"07\" : \"Juillet\" }\n",
    "\n",
    "mois_sort = { \"Août\" : \"01\" , \"Septembre\" : \"02\", \"Octobre\" : \"03\", \"Novembre\" : \"04\" , \"Décembre\" : \"05\",\n",
    "        \"Janvier\" : \"06\", \"Février\" : \"07\", \"Mars\" : \"08\", \"Avril\" : \"09\", \"Mai\" : \"10\", \"Juin\" : \"11\",\n",
    "        \"Juillet\" : \"12\" }\n",
    "             \n",
    "\n",
    "trimestre = { \"01\" : 2, \"02\" : 3, \"03\" : 3, \"04\" : 3, \"05\" : 4, \"06\" : 4, \"07\" : 4, \"08\" : 1, \"09\" : 1, \"10\" : 1, \"11\" : 2, \"12\" : 2}"
   ]
  },
  {
   "cell_type": "code",
   "execution_count": null,
   "id": "spanish-isaac",
   "metadata": {},
   "outputs": [],
   "source": [
    "#arguments\n",
    "id_operateur=None\n",
    "\n",
    "parser = argparse.ArgumentParser()\n",
    "parser.add_argument(\"id_operateur\", help=\"Identifiant opérateur\", default=id_operateur, nargs='?')\n",
    "\n",
    "try:\n",
    "   args = parser.parse_args()\n",
    "   id_operateur = args.id_operateur\n",
    "except:\n",
    "   print(\"Arguments pas défaut\")\n"
   ]
  },
  {
   "cell_type": "code",
   "execution_count": null,
   "id": "strong-breakfast",
   "metadata": {
    "scrolled": true
   },
   "outputs": [],
   "source": [
    "mouvements = pd.read_csv(csv, sep=\";\",encoding=\"iso8859_15\", low_memory=False)\n",
    "\n",
    "lastcampagnes = mouvements['campagne'].unique()\n",
    "lastcampagnes.sort()\n",
    "lastcampagnes = lastcampagnes[-3:]\n",
    "mouvements = mouvements.query('campagne in @lastcampagnes')\n",
    "\n",
    "mouvements.rename(columns = {'identifiant declarant':'identifiant'}, inplace = True)\n",
    "\n",
    "if(id_operateur):\n",
    "    mouvements = mouvements.query(\"identifiant == @id_operateur\").reset_index()\n",
    "\n",
    "mouvements[\"volume mouvement\"] = mouvements[\"volume mouvement\"]*(-1)\n",
    "mouvements['sorties'] = mouvements[\"type de mouvement\"].str.lower().str.startswith(\"sorties/\")\n",
    "mouvements['filtre_produit'] = mouvements['appellation'] + \"-\" + mouvements['lieu'] + \"-\" +mouvements['certification']+ \"-\" +mouvements['genre']+ \"-\" +mouvements['mention']\n",
    "\n",
    "mouvements['mois'] = mouvements[\"periode\"].str.extract('.*(\\d{2})', expand = False)\n",
    "mouvements['trimestre'] = mouvements['mois'].map(trimestre,na_action=None)\n",
    "\n",
    "mouvements['mois'] = mouvements['mois'].map(mois,na_action=None)"
   ]
  },
  {
   "cell_type": "code",
   "execution_count": null,
   "id": "accepted-serial",
   "metadata": {},
   "outputs": [],
   "source": [
    "### PAR APPELLATION ET COULEUR\n",
    "\n",
    "sorties = mouvements.query(\"sorties == True\")\n",
    "\n",
    "sorties = sorties.groupby([\"identifiant\",\"filtre_produit\",\"couleur\",'campagne','trimestre']).sum([\"volume mouvement\"])[[\"volume mouvement\"]]\n",
    "sorties = sorties.reset_index()\n",
    "\n",
    "sorties['couleur'] = sorties['couleur'].str.upper()\n",
    "\n",
    "sorties.set_index(['identifiant','filtre_produit','couleur'], inplace = True)\n",
    "\n",
    "sorties_spe_spe = sorties.sort_values(by=[\"identifiant\",'filtre_produit','couleur',\"campagne\",'trimestre'])\n",
    "\n",
    "sorties_spe_spe"
   ]
  },
  {
   "cell_type": "code",
   "execution_count": null,
   "id": "steady-master",
   "metadata": {},
   "outputs": [],
   "source": [
    "# PAR APPELLATIONS\n",
    "\n",
    "sorties_spe_all = sorties_spe_spe.groupby([\"identifiant\",\"filtre_produit\",'campagne','trimestre']).sum([\"volume mouvement\"])[[\"volume mouvement\"]]\n",
    "sorties_spe_all[\"couleur\"] = \"TOUT\"\n",
    "sorties_spe_all = sorties_spe_all.reset_index()\n",
    "sorties_spe_all.set_index(['identifiant','filtre_produit','couleur'], inplace = True)\n",
    "\n",
    "#sorties_spe_all"
   ]
  },
  {
   "cell_type": "code",
   "execution_count": null,
   "id": "animated-bacteria",
   "metadata": {},
   "outputs": [],
   "source": [
    "#AUCUN FILTRE TOUTES LES APPELLATIONS ET TOUTES LES COULEURS\n",
    "\n",
    "sorties_all_all = sorties_spe_spe.groupby([\"identifiant\",'campagne','trimestre']).sum([\"volume mouvement\"])[[\"volume mouvement\"]]\n",
    "sorties_all_all[\"couleur\"] = \"TOUT\"\n",
    "sorties_all_all[\"filtre_produit\"] = \"TOUT\"\n",
    "sorties_all_all = sorties_all_all.reset_index()\n",
    "\n",
    "sorties_all_all.set_index(['identifiant','filtre_produit','couleur'], inplace = True)\n",
    "\n",
    "#sorties_all_all"
   ]
  },
  {
   "cell_type": "code",
   "execution_count": null,
   "id": "dedicated-operator",
   "metadata": {},
   "outputs": [],
   "source": [
    "#CONCATENATION DES 3 TABLEAUX :\n",
    "df_final = pd.concat([sorties_spe_spe, sorties_spe_all])\n",
    "df_final = pd.concat([df_final, sorties_all_all])\n",
    "\n",
    "df_final = df_final.sort_values(by=['identifiant', 'filtre_produit','couleur'])\n",
    "\n",
    "df_final.rename(columns = {'volume mouvement':'volume'}, inplace = True)\n",
    "\n",
    "\n",
    "\n",
    "#### AJOUT X VALUES FOR THE GRAPH ###\n",
    "\n",
    "xaxis_start_tab = { 1: \"08\" , 2: \"11\" ,3: \"02\" ,4: \"05\"  }\n",
    "xaxis_finish_tab = { 1: \"10\" , 2: \"01\" ,3: \"04\" ,4: \"07\"  }\n",
    "\n",
    "df_final['trimestre-start'] = df_final['trimestre'].map(xaxis_start_tab,na_action=None)\n",
    "df_final['trimestre-finish'] = df_final['trimestre'].map(xaxis_finish_tab,na_action=None)\n",
    "\n",
    "def f(row,column):\n",
    "    annee = row['campagne'].split(\"-\")\n",
    "    liste = [\"08\",\"09\",\"10\",\"11\",\"12\"]\n",
    "    if row['trimestre-start'] in liste:\n",
    "        val = row[column]+\"-\"+annee[0]\n",
    "    else:\n",
    "        val = row[column]+\"-\"+annee[1]\n",
    "    return val\n",
    "\n",
    "df_final['trimestre-start'] = df_final.apply(f, axis=1,column='trimestre-start')\n",
    "df_final['trimestre-finish'] = df_final.apply(f, axis=1,column='trimestre-finish')\n",
    "\n",
    "df_final['trimestre'] = df_final['trimestre-start']+\" ➙ \"+df_final['trimestre-finish']\n",
    "\n",
    "\n",
    "df_final"
   ]
  },
  {
   "cell_type": "code",
   "execution_count": null,
   "id": "saved-delivery",
   "metadata": {},
   "outputs": [],
   "source": [
    "def create_graphe(final,identifiant,appellation,couleur):\n",
    "    # CREATION DU GRAPHE\n",
    "    fig = px.line(final, x='trimestre', y=\"volume\", markers=True,color_discrete_sequence=[\"#d1342f\"])\n",
    "    fig.update_layout(title_font_size=14,\n",
    "                      title_font_color=\"black\",\n",
    "                      xaxis_title=None,\n",
    "                      yaxis_title=None,\n",
    "                      legend_title=None,\n",
    "                      paper_bgcolor=\"white\",\n",
    "                      plot_bgcolor = \"white\",\n",
    "                      yaxis=dict(tickformat=\".f\"),\n",
    "                      legend=dict(orientation=\"h\",xanchor = \"center\",x = 0.5),\n",
    "                      legend_itemdoubleclick=False\n",
    "                     )\n",
    "    fig.for_each_xaxis(lambda x: x.update(showgrid=False))\n",
    "    fig.for_each_yaxis(lambda x: x.update(gridcolor='Lightgrey'))\n",
    "    fig.update_xaxes(fixedrange=True,showline=True, linewidth=1, linecolor='Lightgrey')\n",
    "    fig.update_yaxes(fixedrange=True,rangemode=\"tozero\")\n",
    "    fig.show()\n",
    "    \n",
    "    dossier = dossier_graphes+\"/\"+identifiant+\"/drm/\"+appellation+\"-\"+couleur\n",
    "    pathlib.Path(dossier).mkdir(parents=True, exist_ok=True)\n",
    "\n",
    "    fig.write_html(dossier+\"/graphe4.html\",include_plotlyjs=False)\n",
    "\n",
    "    return"
   ]
  },
  {
   "cell_type": "code",
   "execution_count": null,
   "id": "utility-tutorial",
   "metadata": {},
   "outputs": [],
   "source": [
    "for bloc in df_final.index.unique():\n",
    "    df = df_final.loc[[bloc]]\n",
    "    create_graphe(df,bloc[0],bloc[1],bloc[2])"
   ]
  }
 ],
 "metadata": {
  "kernelspec": {
   "display_name": "Python 3",
   "language": "python",
   "name": "python3"
  },
  "language_info": {
   "codemirror_mode": {
    "name": "ipython",
    "version": 3
   },
   "file_extension": ".py",
   "mimetype": "text/x-python",
   "name": "python",
   "nbconvert_exporter": "python",
   "pygments_lexer": "ipython3",
   "version": "3.9.2"
  }
 },
 "nbformat": 4,
 "nbformat_minor": 5
}
