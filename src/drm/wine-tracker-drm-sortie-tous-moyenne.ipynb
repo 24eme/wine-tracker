{
 "cells": [
  {
   "cell_type": "code",
   "execution_count": null,
   "id": "thick-comedy",
   "metadata": {},
   "outputs": [],
   "source": [
    "import pandas as pd\n",
    "import plotly.express as px\n",
    "import argparse\n",
    "import pathlib\n",
    "path = pathlib.Path().absolute()\n",
    "path = str(path).replace(\"src/drm\",\"\")\n",
    "dossier_graphes=path+\"/graphes/\"\n",
    "csv = path+\"/data/drm/export_bi_mouvements.csv\"  #il manque un ; à la fin du header.\n",
    "source = \"DRM Inter-Rhône\"\n"
   ]
  },
  {
   "cell_type": "code",
   "execution_count": null,
   "id": "formal-dispute",
   "metadata": {},
   "outputs": [],
   "source": [
    "mouvements = pd.read_csv(csv, sep=\";\",encoding=\"iso8859_15\", low_memory=False)\n",
    "\n",
    "lastcampagnes = mouvements['campagne'].unique()\n",
    "lastcampagnes.sort()\n",
    "lastcampagnes = lastcampagnes[-10:]\n",
    "mouvements = mouvements.query('campagne in @lastcampagnes')\n",
    "\n",
    "mouvements[\"volume mouvement\"] = mouvements[\"volume mouvement\"]*(-1)\n",
    "mouvements.rename(columns = {'type de mouvement':'type_de_mouvement'}, inplace = True)\n",
    "mouvements['sorties'] = mouvements[\"type_de_mouvement\"].str.lower().str.startswith(\"sorties/\")\n",
    "mouvements = mouvements.query(\"sorties == True\")\n",
    "mouvements['filtre_produit'] = mouvements['appellation'] + \"-\" + mouvements['lieu'] + \"-\" +mouvements['certification']+ \"-\" +mouvements['genre']+ \"-\" +mouvements['mention']\n"
   ]
  },
  {
   "cell_type": "code",
   "execution_count": null,
   "id": "stone-estonia",
   "metadata": {},
   "outputs": [],
   "source": [
    "### PAR APPELLATION ET COULEUR\n",
    "mouvements_spe_spe = mouvements.groupby([\"filtre_produit\",\"couleur\",\"campagne\",\"type_de_mouvement\"]).sum([\"volume mouvement\"])[[\"volume mouvement\"]]\n",
    "mouvements_spe_spe = mouvements_spe_spe.reset_index()\n",
    "mouvements_spe_spe['couleur'] = mouvements_spe_spe['couleur'].str.upper()\n",
    "mouvements_spe_spe.set_index(['filtre_produit','couleur'], inplace = True)\n",
    "\n",
    "\n",
    "# PAR APPELLATIONS\n",
    "mouvements_spe_all = mouvements.groupby([\"filtre_produit\",\"campagne\",\"type_de_mouvement\"]).sum([\"volume mouvement\"])[[\"volume mouvement\"]]\n",
    "mouvements_spe_all[\"couleur\"]=\"TOUT\"\n",
    "mouvements_spe_all = mouvements_spe_all.reset_index()\n",
    "mouvements_spe_all.set_index(['filtre_produit','couleur'], inplace = True)\n",
    "\n",
    "#AUCUN FILTRE TOUTES LES APPELLATIONS ET TOUTES LES COULEURS\n",
    "mouvements_all_all = mouvements.groupby([\"campagne\",\"type_de_mouvement\"]).sum([\"volume mouvement\"])[[\"volume mouvement\"]]\n",
    "mouvements_all_all['filtre_produit']=\"TOUT\"\n",
    "mouvements_all_all[\"couleur\"]=\"TOUT\"\n",
    "mouvements_all_all = mouvements_all_all.reset_index()\n",
    "mouvements_all_all.set_index(['filtre_produit','couleur'], inplace = True)"
   ]
  },
  {
   "cell_type": "code",
   "execution_count": null,
   "id": "expanded-egyptian",
   "metadata": {},
   "outputs": [],
   "source": [
    "#CONCATENATION DES 3 TABLEAUX :\n",
    "df_final = pd.concat([mouvements_spe_spe, mouvements_spe_all])\n",
    "df_final = pd.concat([df_final, mouvements_all_all])\n",
    "df_final = df_final.sort_values(by=['filtre_produit','couleur','campagne'])\n",
    "df_final.rename(columns = {'volume mouvement':'volume'}, inplace = True)"
   ]
  },
  {
   "cell_type": "code",
   "execution_count": null,
   "id": "rapid-murray",
   "metadata": {},
   "outputs": [],
   "source": [
    "def create_graphe(final,appellation,couleur):\n",
    "    # CREATION DU GRAPHE\n",
    "    fig = px.bar(final, x=\"campagne\", y=\"volume\", color=\"type_de_mouvement\",\n",
    "                 text_auto=True,\n",
    "                 title=\"Evolution des sorties de Chais Vrac/Conditionné <br>(en hl, Sources \"+source+\")\")\n",
    "    fig.update_layout(title_font_size=14,\n",
    "                      title_font_color=\"black\",\n",
    "                      xaxis_title=None,\n",
    "                      yaxis_title=None,\n",
    "                      legend_title=None,\n",
    "                      paper_bgcolor=\"#F7F7F7\",\n",
    "                      plot_bgcolor = \"#F7F7F7\",\n",
    "                      hovermode = False,\n",
    "                      yaxis=dict(tickformat=\".0f\"),\n",
    "                      legend=dict(orientation=\"h\",xanchor = \"center\",x = 0.5),\n",
    "                      legend_itemdoubleclick=False\n",
    "                     )\n",
    "    fig.for_each_xaxis(lambda x: x.update(showgrid=False))\n",
    "    fig.for_each_yaxis(lambda x: x.update(gridcolor='Lightgrey'))\n",
    "    fig.update_xaxes(fixedrange=True)\n",
    "    fig.update_yaxes(fixedrange=True)\n",
    "    #fig.show()\n",
    "\n",
    "    dossier = dossier_graphes+\"/1-REFERENCE/drm/\"+appellation+\"-\"+couleur\n",
    "    pathlib.Path(dossier).mkdir(parents=True, exist_ok=True)\n",
    "\n",
    "    fig.write_html(dossier+\"/graphe2-bis.html\",include_plotlyjs=False)\n",
    "\n",
    "    return"
   ]
  },
  {
   "cell_type": "code",
   "execution_count": null,
   "id": "polish-slope",
   "metadata": {},
   "outputs": [],
   "source": [
    "for bloc in df_final.index.unique():\n",
    "    df = df_final.loc[[bloc]]\n",
    "    create_graphe(df,bloc[0],bloc[1])"
   ]
  }
 ],
 "metadata": {
  "kernelspec": {
   "display_name": "Python 3",
   "language": "python",
   "name": "python3"
  },
  "language_info": {
   "codemirror_mode": {
    "name": "ipython",
    "version": 3
   },
   "file_extension": ".py",
   "mimetype": "text/x-python",
   "name": "python",
   "nbconvert_exporter": "python",
   "pygments_lexer": "ipython3",
   "version": "3.9.2"
  }
 },
 "nbformat": 4,
 "nbformat_minor": 5
}
