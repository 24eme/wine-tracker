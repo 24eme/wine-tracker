{
 "cells": [
  {
   "cell_type": "code",
   "execution_count": null,
   "id": "weird-found",
   "metadata": {},
   "outputs": [],
   "source": [
    "import pandas as pd\n",
    "import numpy as np\n",
    "import plotly.express as px\n",
    "import argparse\n",
    "import pathlib"
   ]
  },
  {
   "cell_type": "code",
   "execution_count": null,
   "id": "numerical-melbourne",
   "metadata": {},
   "outputs": [],
   "source": [
    "path = pathlib.Path().absolute()\n",
    "path = str(path).replace(\"src/drm\",\"\")\n",
    "dossier_graphes=path+\"/graphes/\"\n",
    "csv = path+\"/data/drm/export_bi_drm_stock.csv\"  #il manque un ; à la fin du header.\n",
    "source = \"DRM Inter-Rhône\""
   ]
  },
  {
   "cell_type": "code",
   "execution_count": null,
   "id": "macro-minutes",
   "metadata": {},
   "outputs": [],
   "source": [
    "#arguments\n",
    "id_operateur=None\n",
    "\n",
    "parser = argparse.ArgumentParser()\n",
    "parser.add_argument(\"id_operateur\", help=\"Identifiant opérateur\", default=id_operateur, nargs='?')\n",
    "\n",
    "try:\n",
    "   args = parser.parse_args()\n",
    "   id_operateur = args.id_operateur\n",
    "except:\n",
    "   print(\"Arguments pas défaut\")"
   ]
  },
  {
   "cell_type": "code",
   "execution_count": null,
   "id": "incorporated-aberdeen",
   "metadata": {},
   "outputs": [],
   "source": [
    "#préparations des données de l'opérateur sans filtres\n",
    "drm = pd.read_csv(csv, sep=\";\",encoding=\"iso8859_15\")\n",
    "if(id_operateur):\n",
    "    drm = drm.query(\"identifiant == @id_operateur\").reset_index()\n",
    "\n",
    "lastcampagnes = drm['campagne'].unique()\n",
    "lastcampagnes.sort()\n",
    "lastcampagnes = lastcampagnes[-10:]\n",
    "drm = drm.query('campagne in @lastcampagnes')"
   ]
  },
  {
   "cell_type": "code",
   "execution_count": null,
   "id": "controlled-front",
   "metadata": {},
   "outputs": [],
   "source": [
    "# PAR APPELLATION ET COULEUR\n",
    "\n",
    "#SOMME PRODUCTION #A CHANGER\n",
    "drm_production = drm.groupby([\"identifiant\", \"campagne\",\"certifications\", \"genres\", \"appellations\", \"mentions\", \"lieux\", \"couleurs\"]).sum([\"entree\"])[[\"entree\"]]\n",
    "\n",
    "#SOMME SORTIES\n",
    "drm_sortie = drm.groupby([\"identifiant\", \"campagne\",\"certifications\", \"genres\", \"appellations\", \"mentions\", \"lieux\", \"couleurs\"]).sum([\"sortie\"])[[\"sortie\"]]\n",
    "\n",
    "#SOMME STOCK DEBUT DE CAMPAGNE\n",
    "drm_stock_debut = drm\n",
    "drm_stock_debut['debut_campagne'] = drm[\"date\"].str.lower().str.endswith(\"08\")\n",
    "drm_stock_debut = drm_stock_debut.query(\"debut_campagne == True\")\n",
    "drm_stock_debut = drm_stock_debut.groupby([\"identifiant\", \"campagne\",\"certifications\", \"genres\", \"appellations\", \"mentions\", \"lieux\", \"couleurs\"]).sum([\"stock debut\"])[[\"stock debut\"]]\n",
    "\n",
    "df_final = pd.merge(drm_production, drm_sortie,how='outer', on=[\"identifiant\", \"campagne\",\"certifications\", \"genres\", \"appellations\", \"mentions\", \"lieux\", \"couleurs\"])\n",
    "df_final = pd.merge(df_final, drm_stock_debut ,how='outer', on=[\"identifiant\", \"campagne\",\"certifications\", \"genres\", \"appellations\", \"mentions\", \"lieux\", \"couleurs\"])\n",
    "\n",
    "df_final = df_final.reset_index()\n",
    "\n",
    "df_final['couleurs'] = df_final['couleurs'].str.upper()\n",
    "\n",
    "df_final['filtre_produit'] = df_final['appellations'] + \"-\" + df_final['lieux'] + \"-\" +df_final['certifications']+ \"-\" +df_final['genres']\n",
    "df_final.index = [df_final['identifiant'],df_final['filtre_produit'],df_final['couleurs']]\n",
    "df_final.drop(['certifications', 'genres','appellations','mentions','lieux'], axis=1, inplace=True)\n",
    "df_final.rename(columns = {'stock debut': 'Stock physique en début de camp production (hl)','entree' : 'Production (hl)', 'sortie' : 'Sorties de chais (hl)'}, inplace = True)\n",
    "\n",
    "df_final['filtre'] = \"SPE-SPE\"\n",
    "\n",
    "#df_final"
   ]
  },
  {
   "cell_type": "code",
   "execution_count": null,
   "id": "light-wilderness",
   "metadata": {},
   "outputs": [],
   "source": [
    "# PAR APPELLATIONS\n",
    "\n",
    "drm_production_spe_all = drm_production.groupby([\"identifiant\",\"campagne\",\"certifications\", \"genres\", \"appellations\", \"mentions\", \"lieux\"]).sum([\"entree\"])[[\"entree\"]]\n",
    "drm_sortie_spe_all = drm_sortie.groupby([\"identifiant\", \"campagne\",\"certifications\", \"genres\", \"appellations\", \"mentions\", \"lieux\"]).sum([\"sortie\"])[[\"sortie\"]]\n",
    "drm_stock_debut_spe_all = drm_stock_debut.groupby([\"identifiant\", \"campagne\",\"certifications\", \"genres\", \"appellations\", \"mentions\", \"lieux\"]).sum([\"stock debut\"])[[\"stock debut\"]]\n",
    "\n",
    "drm_merge_spe_all = pd.merge(drm_production_spe_all, drm_sortie_spe_all,how='outer', on=[\"identifiant\", \"campagne\",\"certifications\", \"genres\", \"appellations\", \"mentions\", \"lieux\"])\n",
    "drm_merge_spe_all = pd.merge(drm_merge_spe_all, drm_stock_debut_spe_all ,how='outer', on=[\"identifiant\", \"campagne\",\"certifications\", \"genres\", \"appellations\", \"mentions\", \"lieux\"])\n",
    "\n",
    "drm_merge_spe_all = drm_merge_spe_all.reset_index()\n",
    "\n",
    "drm_merge_spe_all['filtre_produit'] = drm_merge_spe_all['appellations'] + \"-\" + drm_merge_spe_all['lieux'] + \"-\" +drm_merge_spe_all['certifications']+ \"-\" +drm_merge_spe_all['genres']\n",
    "drm_merge_spe_all['couleurs'] = \"TOUT\"\n",
    "\n",
    "drm_merge_spe_all.index = [drm_merge_spe_all['identifiant'],drm_merge_spe_all['filtre_produit'],drm_merge_spe_all['couleurs']]\n",
    "drm_merge_spe_all.drop(['certifications', 'genres','appellations','mentions','lieux'], axis=1, inplace=True)\n",
    "\n",
    "\n",
    "drm_merge_spe_all.rename(columns = {'stock debut': 'Stock physique en début de camp production (hl)','entree' : 'Production (hl)', 'sortie' : 'Sorties de chais (hl)'}, inplace = True)\n",
    "\n",
    "drm_merge_spe_all['filtre'] = \"SPE-ALL\"\n",
    "\n",
    "#drm_merge_spe_all"
   ]
  },
  {
   "cell_type": "code",
   "execution_count": null,
   "id": "boring-intersection",
   "metadata": {},
   "outputs": [],
   "source": [
    "#AUCUN FILTRE TOUTES LES APPELLATIONS ET TOUTES LES COULEURS\n",
    "\n",
    "drm_production_all_all = drm_production_spe_all.groupby([\"identifiant\",\"campagne\"]).sum([\"entree\"])[[\"entree\"]]\n",
    "drm_sortie_all_all = drm_sortie_spe_all.groupby([\"identifiant\", \"campagne\"]).sum([\"sortie\"])[[\"sortie\"]]\n",
    "drm_stock_debut_all_all = drm_stock_debut.groupby([\"identifiant\", \"campagne\"]).sum([\"stock debut\"])[[\"stock debut\"]]\n",
    "\n",
    "\n",
    "drm_merge_all_all = pd.merge(drm_production_all_all, drm_sortie_all_all,how='outer', on=[\"identifiant\", \"campagne\"])\n",
    "drm_merge_all_all = pd.merge(drm_merge_all_all, drm_stock_debut_all_all ,how='outer', on=[\"identifiant\", \"campagne\"])\n",
    "\n",
    "drm_merge_all_all = drm_merge_all_all.reset_index()\n",
    "\n",
    "drm_merge_all_all['filtre_produit'] = \"TOUT\"\n",
    "drm_merge_all_all['couleurs'] = \"TOUT\"\n",
    "\n",
    "drm_merge_all_all.rename(columns = {'stock debut': 'Stock physique en début de camp production (hl)','entree' : 'Production (hl)', 'sortie' : 'Sorties de chais (hl)'}, inplace = True)\n",
    "drm_merge_all_all.index = [drm_merge_all_all['identifiant'],drm_merge_all_all['filtre_produit'],drm_merge_all_all['couleurs']]\n",
    "\n",
    "drm_merge_all_all['filtre'] = \"ALL-ALL\"\n",
    "\n",
    "#drm_merge_all_all"
   ]
  },
  {
   "cell_type": "code",
   "execution_count": null,
   "id": "sophisticated-brunei",
   "metadata": {},
   "outputs": [],
   "source": [
    "df_final = pd.concat([df_final, drm_merge_spe_all])\n",
    "\n",
    "df_final = pd.concat([df_final, drm_merge_all_all])\n",
    "\n",
    "df_final.drop(['identifiant','filtre_produit',\"couleurs\"], axis=1, inplace=True)\n",
    "\n",
    "df_final = df_final.sort_values(by=['identifiant', 'filtre_produit','couleurs'])\n",
    "\n",
    "#df_final"
   ]
  },
  {
   "cell_type": "code",
   "execution_count": null,
   "id": "average-negative",
   "metadata": {},
   "outputs": [],
   "source": [
    "def create_graphique(final,identifiant,appellation,couleur):\n",
    "\n",
    "    # CREATION DU GRAPHE\n",
    "    fig = px.line(final, x=\"campagne\", y=\"value\", color='variable', markers=True, symbol=\"variable\",color_discrete_sequence=[\"#477be5\", \"#24b724\", \"#e75047\"],\n",
    "                  title=\"Evolution des MES stocks, récoltes et sorties<br>(en hl. Sorties hors replis, hors déclassements, Sources \"+source+\")\")\n",
    "    fig.update_traces(mode=\"markers+lines\", hovertemplate=None)\n",
    "    fig.update_layout(hovermode=\"x\")\n",
    "    fig.update_layout(title_font_size=14,\n",
    "                      title_font_color=\"black\",\n",
    "                      xaxis_title=None,\n",
    "                      yaxis_title=None,\n",
    "                      legend_title=None,\n",
    "                      paper_bgcolor=\"white\",\n",
    "                      plot_bgcolor = \"white\",\n",
    "                      yaxis=dict(tickformat=\".0f\"),\n",
    "                      legend=dict(orientation=\"h\",xanchor = \"center\",x = 0.5)\n",
    "                     )\n",
    "    fig.for_each_xaxis(lambda x: x.update(showgrid=False))\n",
    "    fig.for_each_yaxis(lambda x: x.update(gridcolor='Lightgrey'))\n",
    "    fig.update_xaxes(fixedrange=True)\n",
    "    fig.update_yaxes(fixedrange=True)\n",
    "    #fig.show()\n",
    "\n",
    "    dossier = dossier_graphes+\"/\"+identifiant+\"/drm/\"+appellation+\"-\"+couleur\n",
    "    pathlib.Path(dossier).mkdir(parents=True, exist_ok=True)\n",
    "\n",
    "    fig.write_html(dossier+\"/graphe1.html\",include_plotlyjs=False)\n",
    "\n",
    "    return"
   ]
  },
  {
   "cell_type": "code",
   "execution_count": null,
   "id": "statistical-session",
   "metadata": {},
   "outputs": [],
   "source": [
    "for bloc in df_final.index.unique():\n",
    "    df = df_final.loc[[bloc]]\n",
    "    df = df.reset_index()\n",
    "    df = pd.melt(df, id_vars=['identifiant','filtre_produit','couleurs','campagne'], value_vars=['Stock physique en début de camp production (hl)','Production (hl)','Sorties de chais (hl)'])\n",
    "    create_graphique(df,bloc[0],bloc[1],bloc[2])"
   ]
  }
 ],
 "metadata": {
  "kernelspec": {
   "display_name": "Python 3",
   "language": "python",
   "name": "python3"
  },
  "language_info": {
   "codemirror_mode": {
    "name": "ipython",
    "version": 3
   },
   "file_extension": ".py",
   "mimetype": "text/x-python",
   "name": "python",
   "nbconvert_exporter": "python",
   "pygments_lexer": "ipython3",
   "version": "3.9.2"
  }
 },
 "nbformat": 4,
 "nbformat_minor": 5
}
