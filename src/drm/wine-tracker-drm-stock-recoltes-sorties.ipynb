{
 "cells": [
  {
   "cell_type": "code",
   "execution_count": null,
   "id": "boolean-officer",
   "metadata": {},
   "outputs": [],
   "source": [
    "import pandas as pd\n",
    "import plotly.express as px\n",
    "import plotly\n",
    "import argparse"
   ]
  },
  {
   "cell_type": "code",
   "execution_count": null,
   "id": "apparent-preference",
   "metadata": {},
   "outputs": [],
   "source": [
    "#arguments\n",
    "id_operateur=\"XXXXX-XX\"\n",
    "\n",
    "parser = argparse.ArgumentParser()\n",
    "parser.add_argument(\"id_operateur\", help=\"Identifiant opérateur\", default=id_operateur, nargs='?')\n",
    "\n",
    "try:\n",
    "    args = parser.parse_args()\n",
    "    id_operateur = args.id_operateur\n",
    "except:\n",
    "    print(\"Arguments pas défaut\")\n"
   ]
  },
  {
   "cell_type": "code",
   "execution_count": null,
   "id": "after-robin",
   "metadata": {},
   "outputs": [],
   "source": [
    "dossier_graphes=\"../../graphes/\"\n",
    "csv = \"../../data/drm/export_bi_drm_stock.csv\"  #il manque un ; à la fin du header.\n",
    "source = \"DRM Inter-Rhône\""
   ]
  },
  {
   "cell_type": "code",
   "execution_count": null,
   "id": "opened-girlfriend",
   "metadata": {},
   "outputs": [],
   "source": [
    "#préparations des données de l'opérateur sans filtres\n",
    "drm = pd.read_csv(csv, sep=\";\",encoding=\"iso8859_15\")\n",
    "drm = drm.query(\"identifiant == @id_operateur\").reset_index()"
   ]
  },
  {
   "cell_type": "code",
   "execution_count": null,
   "id": "current-subcommittee",
   "metadata": {},
   "outputs": [],
   "source": [
    "#SOMME STOCK DEBUT DE CAMPAGNE\n",
    "stock_physique_debut_campagne = drm\n",
    "stock_physique_debut_campagne['debut_campagne'] = stock_physique_debut_campagne[\"date\"].str.lower().str.endswith(\"08\")\n",
    "stock_physique_debut_campagne = stock_physique_debut_campagne.query(\"debut_campagne == True\")\n",
    "stock_physique_debut_campagne = stock_physique_debut_campagne[\"stock debut\"].groupby(stock_physique_debut_campagne['campagne']).agg('sum').reset_index()\n",
    "\n",
    "\n",
    "#SOMME PRODUCTION\n",
    "production = drm[\"entree revendiquee\"].groupby(drm['campagne']).agg('sum').reset_index()\n",
    "\n",
    "\n",
    "#SOMME SORTIES\n",
    "sorties = drm[\"sortie revendiquee\"].groupby(drm['campagne']).agg('sum').reset_index()\n",
    "\n",
    "\n",
    "#MERGE\n",
    "final = pd.merge(production, sorties,how='outer', on=['campagne'])\n",
    "final = pd.merge(final, stock_physique_debut_campagne ,how='outer', on=['campagne'])\n",
    "\n",
    "#RENOMMAGE DES COLONNES\n",
    "final.rename(columns = {'stock debut': 'Stock physique en début de camp production (hl)','entree revendiquee' : 'Production (hl)', 'sortie revendiquee' : 'Sorties de chais (hl)'}, inplace = True)\n",
    "\n",
    "#FORMATTAGE DU TABLEAU \n",
    "final = pd.melt(final, id_vars=['campagne'], value_vars=['Stock physique en début de camp production (hl)','Production (hl)','Sorties de chais (hl)'])\n",
    "final.rename(columns = {'value':'volume'}, inplace = True)\n",
    "\n",
    "#final.loc[:, \"volume\"] = final[\"volume\"].map('{:.f}'.format)\n",
    "\n",
    "#print(final)\n"
   ]
  },
  {
   "cell_type": "code",
   "execution_count": null,
   "id": "racial-broadway",
   "metadata": {
    "scrolled": true
   },
   "outputs": [],
   "source": [
    "# CREATION DU GRAPHE\n",
    "fig = px.line(final, x=\"campagne\", y=\"volume\", color='variable', markers=True, symbol=\"variable\",color_discrete_sequence=[\"blue\", \"green\", \"red\"],\n",
    "              title=\"Evolution des MES stocks, récoltes et sorties<br>(en hl. Sorties hors replis, hors déclassements, Sources \"+source+\")\")\n",
    "fig.update_traces(mode=\"markers+lines\", hovertemplate=None)\n",
    "fig.update_layout(hovermode=\"x\")\n",
    "fig.update_layout(xaxis_title=None, \n",
    "                  yaxis_title=None,\n",
    "                  legend_title=None,\n",
    "                  paper_bgcolor=\"#fff6ad\",\n",
    "                  plot_bgcolor = \"white\",\n",
    "                  yaxis=dict(tickformat=\".f\"),                  \n",
    "                  legend=dict(orientation=\"h\",xanchor = \"center\",x = 0.5)\n",
    "                 )\n",
    "fig.for_each_xaxis(lambda x: x.update(showgrid=False))\n",
    "fig.for_each_yaxis(lambda x: x.update(gridcolor='Lightgrey'))\n",
    "fig.update_xaxes(fixedrange=True)\n",
    "fig.update_yaxes(fixedrange=True)\n",
    "fig.show()\n",
    "\n",
    "#IL FAUT AJOUTER DES ESPACES DANS POUR LES MILLIERS."
   ]
  },
  {
   "cell_type": "code",
   "execution_count": null,
   "id": "turkish-richards",
   "metadata": {},
   "outputs": [],
   "source": [
    "# GRAPHE DANS UN FICHIER HTML\n",
    "fig.write_html(dossier_graphes+id_operateur+\"_graphe1.html\")"
   ]
  }
 ],
 "metadata": {
  "kernelspec": {
   "display_name": "Python 3",
   "language": "python",
   "name": "python3"
  },
  "language_info": {
   "codemirror_mode": {
    "name": "ipython",
    "version": 3
   },
   "file_extension": ".py",
   "mimetype": "text/x-python",
   "name": "python",
   "nbconvert_exporter": "python",
   "pygments_lexer": "ipython3",
   "version": "3.9.2"
  }
 },
 "nbformat": 4,
 "nbformat_minor": 5
}
