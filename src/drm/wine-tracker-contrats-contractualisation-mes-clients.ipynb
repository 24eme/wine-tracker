{
 "cells": [
  {
   "cell_type": "code",
   "execution_count": null,
   "id": "accomplished-spokesman",
   "metadata": {},
   "outputs": [],
   "source": [
    "import pandas as pd\n",
    "import plotly.express as px\n",
    "import argparse\n",
    "import pathlib\n",
    "\n",
    "path = pathlib.Path().absolute()\n",
    "path = str(path).replace(\"src/drm\",\"\")\n",
    "dossier_graphes=path+\"/graphes/\"\n",
    "csv = path+\"/data/contrats/export_bi_contrats.csv\"  #il manque un ; à la fin du header.\n",
    "source = \"DRM Inter-Rhône\""
   ]
  },
  {
   "cell_type": "code",
   "execution_count": null,
   "id": "dressed-jason",
   "metadata": {},
   "outputs": [],
   "source": [
    "#arguments\n",
    "id_operateur=None\n",
    "\n",
    "parser = argparse.ArgumentParser()\n",
    "parser.add_argument(\"id_operateur\", help=\"Identifiant opérateur\", default=id_operateur, nargs='?')\n",
    "\n",
    "try:\n",
    "   args = parser.parse_args()\n",
    "   id_operateur = args.id_operateur\n",
    "except:\n",
    "   print(\"Arguments pas défaut\")"
   ]
  },
  {
   "cell_type": "code",
   "execution_count": null,
   "id": "undefined-fountain",
   "metadata": {},
   "outputs": [],
   "source": [
    "contrats = pd.read_csv(csv, sep=\";\",encoding=\"iso8859_15\", low_memory=False)\n",
    "\n",
    "lastcampagnes = contrats['campagne'].unique()\n",
    "lastcampagnes.sort()\n",
    "lastcampagnes = lastcampagnes[-1:]\n",
    "\n",
    "contrats = contrats.query('campagne in @lastcampagnes')\n",
    "contrats['couleur'] = contrats['couleur'].str.upper()\n",
    "\n",
    "contrats.rename(columns = {'identifiant vendeur':'identifiant_vendeur','nom acheteur': 'nom_acheteur','volume enleve (en hl)':'volume enleve'}, inplace = True)\n",
    "\n",
    "if(id_operateur):\n",
    "    contrats = contrats.query(\"identifiant_vendeur == @id_operateur\").reset_index()\n",
    "\n",
    "\n",
    "# PAR APPELLATION ET COULEUR\n",
    "\n",
    "contrats['filtre_produit'] = contrats['appellation'] + \"-\" + contrats['lieu'] + \"-\" +contrats['certification']+ \"-\" +contrats['genre']+ \"-\" +contrats['mention']\n",
    "\n",
    "contrats_spe_spe = contrats.groupby([\"identifiant_vendeur\",\"filtre_produit\", \"couleur\",\"identifiant acheteur\",\"nom_acheteur\"]).sum([\"volume enleve\"])[[\"volume enleve\"]]\n",
    "\n",
    "contrats_spe_spe = contrats_spe_spe.reset_index(level='identifiant acheteur')\n",
    "contrats_spe_spe = contrats_spe_spe.reset_index(level='nom_acheteur')\n",
    "\n",
    "#contrats_spe_spe\n",
    "\n",
    "# PAR APPELLATIONS\n",
    "\n",
    "\n",
    "contrats_spe_all = contrats_spe_spe.groupby([\"identifiant_vendeur\",\"filtre_produit\",'identifiant acheteur',\"nom_acheteur\"]).sum([\"volume enleve\"])[[\"volume enleve\"]]\n",
    "contrats_spe_all[\"couleur\"] = \"TOUT\"\n",
    "contrats_spe_all = contrats_spe_all.reset_index()\n",
    "contrats_spe_all.set_index(['identifiant_vendeur','filtre_produit','couleur'], inplace = True)\n",
    "\n",
    "#contrats_spe_all\n",
    "\n",
    "#AUCUN FILTRE TOUTES LES APPELLATIONS ET TOUTES LES COULEURS\n",
    "\n",
    "\n",
    "contrats_all_all = contrats_spe_spe.groupby([\"identifiant_vendeur\",'identifiant acheteur',\"nom_acheteur\"]).sum([\"volume enleve\"])[[\"volume enleve\"]]\n",
    "contrats_all_all[\"couleur\"] = \"TOUT\"\n",
    "contrats_all_all[\"filtre_produit\"] = \"TOUT\"\n",
    "contrats_all_all = contrats_all_all.reset_index()\n",
    "\n",
    "contrats_all_all.set_index(['identifiant_vendeur','filtre_produit','couleur'], inplace = True)\n",
    "\n",
    "#contrats_all_all\n",
    "\n",
    "\n",
    "#CONCATENATION DES 3 TABLEAUX :\n",
    "df_final = pd.concat([contrats_spe_spe, contrats_spe_all])\n",
    "df_final = pd.concat([df_final, contrats_all_all])\n",
    "\n",
    "df_final = df_final.sort_values(by=['identifiant_vendeur','filtre_produit','couleur'])\n",
    "\n",
    "df_final.rename(columns = {'volume enleve':'volume','nom_acheteur':\"Client\"}, inplace = True)\n",
    "\n",
    "#df_final"
   ]
  },
  {
   "cell_type": "code",
   "execution_count": null,
   "id": "macro-solomon",
   "metadata": {},
   "outputs": [],
   "source": [
    "def create_graphe(df, identifiant, appellation, couleur):\n",
    "\n",
    "    fig = px.pie(df, values='volume', names='Client', color_discrete_sequence=px.colors.sequential.Agsunset, title=\"Contractualisation \"+lastcampagnes[0], width=1200, height=500)\n",
    "    fig.update_traces(textposition='inside', textinfo='label+text', text=df['volume'].map(\"{:,} hl\".format))\n",
    "    #fig.show()\n",
    "\n",
    "    dossier = dossier_graphes+\"/\"+identifiant+\"/contrat/\"+appellation+\"-\"+couleur\n",
    "    pathlib.Path(dossier).mkdir(parents=True, exist_ok=True)\n",
    "\n",
    "    fig.write_html(dossier+\"/graphe1.html\",include_plotlyjs=False)\n",
    "\n",
    "    return\n"
   ]
  },
  {
   "cell_type": "code",
   "execution_count": null,
   "id": "coupled-census",
   "metadata": {},
   "outputs": [],
   "source": [
    "for bloc in df_final.index.unique():\n",
    "    df = df_final.loc[bloc]\n",
    "    create_graphe(df, bloc[0], bloc[1], bloc[2])"
   ]
  },
  {
   "cell_type": "code",
   "execution_count": null,
   "id": "caroline-transport",
   "metadata": {},
   "outputs": [],
   "source": []
  }
 ],
 "metadata": {
  "kernelspec": {
   "display_name": "Python 3",
   "language": "python",
   "name": "python3"
  },
  "language_info": {
   "codemirror_mode": {
    "name": "ipython",
    "version": 3
   },
   "file_extension": ".py",
   "mimetype": "text/x-python",
   "name": "python",
   "nbconvert_exporter": "python",
   "pygments_lexer": "ipython3",
   "version": "3.9.2"
  }
 },
 "nbformat": 4,
 "nbformat_minor": 5
}
