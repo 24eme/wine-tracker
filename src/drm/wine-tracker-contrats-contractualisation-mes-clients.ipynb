{
 "cells": [
  {
   "cell_type": "code",
   "execution_count": null,
   "id": "accomplished-spokesman",
   "metadata": {},
   "outputs": [],
   "source": [
    "import pandas as pd\n",
    "import plotly.express as px\n",
    "import argparse\n",
    "import pathlib\n",
    "\n",
    "path = pathlib.Path().absolute()\n",
    "path = str(path).replace(\"src/drm\",\"\")\n",
    "dossier_graphes=path+\"/graphes/\"\n",
    "csv = path+\"/data/contrats/export_bi_contrats.csv\"  #il manque un ; à la fin du header.\n",
    "source = \"DRM Inter-Rhône\""
   ]
  },
  {
   "cell_type": "code",
   "execution_count": null,
   "id": "dressed-jason",
   "metadata": {},
   "outputs": [],
   "source": [
    "#arguments\n",
    "id_operateur=None\n",
    "\n",
    "parser = argparse.ArgumentParser()\n",
    "parser.add_argument(\"id_operateur\", help=\"Identifiant opérateur\", default=id_operateur, nargs='?')\n",
    "\n",
    "try:\n",
    "   args = parser.parse_args()\n",
    "   id_operateur = args.id_operateur\n",
    "except:\n",
    "   print(\"Arguments pas défaut\")"
   ]
  },
  {
   "cell_type": "code",
   "execution_count": null,
   "id": "undefined-fountain",
   "metadata": {},
   "outputs": [],
   "source": [
    "contrats = pd.read_csv(csv, sep=\";\",encoding=\"iso8859_15\", low_memory=False)\n",
    "contrats\n",
    "\n",
    "lastcampagnes = contrats['campagne'].unique()\n",
    "lastcampagnes.sort()\n",
    "lastcampagnes = lastcampagnes[-1:]\n",
    "\n",
    "contrats = contrats.query('campagne in @lastcampagnes')\n",
    "contrats['couleur'] = contrats['couleur'].str.upper()\n",
    "\n",
    "contrats.rename(columns = {'identifiant vendeur':'identifiant_vendeur','volume enleve (en hl)':'volume enleve'}, inplace = True)\n",
    "\n",
    "if(id_operateur):\n",
    "    contrats = contrats.query(\"identifiant_vendeur == @id_operateur\").reset_index()\n",
    "    \n",
    "    \n",
    "contrats['filtre_produit'] = contrats['appellation'] + \"-\" + contrats['lieu'] + \"-\" +contrats['certification']+ \"-\" +contrats['genre']+ \"-\" +contrats['mention']\n",
    "\n",
    "contrats = contrats.groupby([\"filtre_produit\", \"couleur\",\"identifiant acheteur\"]).sum([\"volume enleve\"])[[\"volume enleve\"]]\n",
    "\n",
    "contrats = contrats.reset_index(level='identifiant acheteur') # same as df.reset_index(level=0)\n",
    "\n",
    "#contrats"
   ]
  },
  {
   "cell_type": "code",
   "execution_count": null,
   "id": "macro-solomon",
   "metadata": {},
   "outputs": [],
   "source": [
    "def create_graphe(df,identifiant,appellation,couleur):\n",
    "    \n",
    "    fig = px.pie(df, values='volume enleve', names='identifiant acheteur', color_discrete_sequence=[\"#e74e62\", \"#d1342f\", \"#ac1c25\",\"#961d50\",\"#961d50\",\"#8F1665\",\"#753452\",\"#8A321A\"],)\n",
    "\n",
    "    #fig.show()\n",
    "    \n",
    "    dossier = dossier_graphes+\"/\"+identifiant+\"/contrat/\"+appellation+\"-\"+couleur\n",
    "    pathlib.Path(dossier).mkdir(parents=True, exist_ok=True)\n",
    "\n",
    "    fig.write_html(dossier+\"/graphe1.html\",include_plotlyjs=False)\n",
    "    \n",
    "    return "
   ]
  },
  {
   "cell_type": "code",
   "execution_count": null,
   "id": "coupled-census",
   "metadata": {},
   "outputs": [],
   "source": [
    "for bloc in contrats.index.unique():\n",
    "    df = contrats.loc[bloc]\n",
    "    create_graphe(df,id_operateur,bloc[0],bloc[1])"
   ]
  }
 ],
 "metadata": {
  "kernelspec": {
   "display_name": "Python 3",
   "language": "python",
   "name": "python3"
  },
  "language_info": {
   "codemirror_mode": {
    "name": "ipython",
    "version": 3
   },
   "file_extension": ".py",
   "mimetype": "text/x-python",
   "name": "python",
   "nbconvert_exporter": "python",
   "pygments_lexer": "ipython3",
   "version": "3.9.2"
  }
 },
 "nbformat": 4,
 "nbformat_minor": 5
}
