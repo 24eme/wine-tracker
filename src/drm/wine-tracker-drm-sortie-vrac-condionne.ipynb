{
 "cells": [
  {
   "cell_type": "code",
   "execution_count": null,
   "id": "empty-priest",
   "metadata": {},
   "outputs": [],
   "source": [
    "import pandas as pd\n",
    "import plotly.express as px\n",
    "import argparse\n",
    "import pathlib"
   ]
  },
  {
   "cell_type": "code",
   "execution_count": null,
   "id": "expanded-hudson",
   "metadata": {},
   "outputs": [],
   "source": [
    "path = pathlib.Path().absolute()\n",
    "path = str(path).replace(\"src/drm\",\"\")\n",
    "dossier_graphes=path+\"/graphes/\"\n",
    "csv = path+\"/data/drm/export_bi_mouvements.csv\"  #il manque un ; à la fin du header.\n",
    "source = \"DRM Inter-Rhône\""
   ]
  },
  {
   "cell_type": "code",
   "execution_count": null,
   "id": "incoming-plastic",
   "metadata": {},
   "outputs": [],
   "source": [
    "#arguments\n",
    "id_operateur=None\n",
    "\n",
    "parser = argparse.ArgumentParser()\n",
    "parser.add_argument(\"id_operateur\", help=\"Identifiant opérateur\", default=id_operateur, nargs='?')\n",
    "\n",
    "try:\n",
    "   args = parser.parse_args()\n",
    "   id_operateur = args.id_operateur\n",
    "except:\n",
    "   print(\"Arguments pas défaut\")"
   ]
  },
  {
   "cell_type": "code",
   "execution_count": null,
   "id": "hourly-terrorism",
   "metadata": {},
   "outputs": [],
   "source": [
    "#préparations des données de l'opérateur sans filtres\n",
    "mouvements = pd.read_csv(csv, sep=\";\",encoding=\"iso8859_15\", low_memory=False)\n",
    "mouvements.rename(columns = {'identifiant declarant':'identifiant'}, inplace = True)\n",
    "\n",
    "if(id_operateur):\n",
    "    mouvements = mouvements.query(\"identifiant == @id_operateur\").reset_index()\n",
    "    \n",
    "mouvements"
   ]
  },
  {
   "cell_type": "code",
   "execution_count": null,
   "id": "suspected-machinery",
   "metadata": {},
   "outputs": [],
   "source": [
    "mouvements[\"volume mouvement\"] = mouvements[\"volume mouvement\"]*(-1)\n",
    "mouvements.rename(columns = {'type de mouvement':'type_de_mouvement'}, inplace = True)\n",
    "mouvements['sorties'] = mouvements[\"type_de_mouvement\"].str.lower().str.startswith(\"sorties/\")\n",
    "mouvements = mouvements.query(\"sorties == True\")\n",
    "mouvements['filtre_produit'] = mouvements['appellation'] + \"-\" + mouvements['lieu'] + \"-\" +mouvements['certification']+ \"-\" +mouvements['genre']\n",
    "\n",
    "#mouvements"
   ]
  },
  {
   "cell_type": "code",
   "execution_count": null,
   "id": "bibliographic-indonesia",
   "metadata": {},
   "outputs": [],
   "source": [
    "### PAR APPELLATION ET COULEUR\n",
    "\n",
    "#les VRACS\n",
    "vrac = mouvements.query(\"type_de_mouvement == 'sorties/vrac'\").reset_index()\n",
    "vrac = vrac.groupby([\"identifiant\",\"filtre_produit\",\"couleur\",\"campagne\"]).sum([\"volume mouvement\"])[[\"volume mouvement\"]]\n",
    "vrac.rename(columns = {'volume mouvement':'Vrac'}, inplace = True)\n",
    "\n",
    "#les CONDITIONNE\n",
    "conditionne = mouvements.query(\"type_de_mouvement == 'sorties/crd'\").reset_index()\n",
    "conditionne = conditionne.groupby([\"identifiant\",\"filtre_produit\",\"couleur\",\"campagne\"]).sum([\"volume mouvement\"])[[\"volume mouvement\"]]\n",
    "conditionne.rename(columns = {'volume mouvement':'Conditionné'}, inplace = True)\n",
    "\n",
    "\n",
    "#LES AUTRES\n",
    "autres = mouvements.query(\"type_de_mouvement != 'sorties/vrac' and type_de_mouvement != 'sorties/crd'\").reset_index()\n",
    "autres = autres.groupby([\"identifiant\",\"filtre_produit\",\"couleur\",\"campagne\"]).sum([\"volume mouvement\"])[[\"volume mouvement\"]]\n",
    "autres.rename(columns = {'volume mouvement':'Autres'}, inplace = True)\n",
    "\n",
    "df_final_spe_spe = pd.concat([vrac, conditionne],axis=1)\n",
    "df_final_spe_spe = pd.concat([df_final_spe_spe, autres],axis=1)\n",
    "df_final_spe_spe = df_final_spe_spe.sort_values(by=['identifiant', 'filtre_produit','couleur'])\n",
    "\n",
    "df_final_spe_spe = df_final_spe_spe.reset_index()\n",
    "df_final_spe_spe.set_index(['identifiant','filtre_produit','couleur'], inplace = True)\n",
    "\n",
    "#df_final_spe_spe"
   ]
  },
  {
   "cell_type": "code",
   "execution_count": null,
   "id": "automatic-mechanism",
   "metadata": {},
   "outputs": [],
   "source": [
    "# PAR APPELLATIONS\n",
    "\n",
    "#les VRACS\n",
    "vrac_spe_all = vrac.groupby([\"identifiant\",\"filtre_produit\",\"campagne\"]).sum([\"Vrac\"])[[\"Vrac\"]]\n",
    "\n",
    "#les CONDITIONNE\n",
    "conditionne_spe_all = conditionne.groupby([\"identifiant\",\"filtre_produit\",\"campagne\"]).sum([\"Conditionné\"])[[\"Conditionné\"]]\n",
    "\n",
    "#LES AUTRES\n",
    "autres_spe_all = autres.groupby([\"identifiant\",\"filtre_produit\",\"campagne\"]).sum([\"Autres\"])[[\"Autres\"]]\n",
    "\n",
    "df_final_spe_all = pd.concat([vrac_spe_all, conditionne_spe_all],axis=1)\n",
    "df_final_spe_all = pd.concat([df_final_spe_all, autres_spe_all],axis=1)\n",
    "df_final_spe_all = df_final_spe_all.sort_values(by=['identifiant', 'filtre_produit'])\n",
    "\n",
    "df_final_spe_all['couleur'] = \"TOUT\"\n",
    "\n",
    "df_final_spe_all = df_final_spe_all.reset_index()\n",
    "df_final_spe_all.set_index(['identifiant','filtre_produit','couleur'], inplace = True)\n",
    "\n",
    "#df_final_spe_all"
   ]
  },
  {
   "cell_type": "code",
   "execution_count": null,
   "id": "personalized-electricity",
   "metadata": {},
   "outputs": [],
   "source": [
    "#AUCUN FILTRE TOUTES LES APPELLATIONS ET TOUTES LES COULEURS\n",
    "\n",
    "#les VRACS\n",
    "vrac_all_all = vrac.groupby([\"identifiant\",\"campagne\"]).sum([\"Vrac\"])[[\"Vrac\"]]\n",
    "#les CONDITIONNE\n",
    "conditionne_all_all = conditionne.groupby([\"identifiant\",\"campagne\"]).sum([\"Conditionné\"])[[\"Conditionné\"]]\n",
    "#LES AUTRES\n",
    "autres_all_all = autres.groupby([\"identifiant\",\"campagne\"]).sum([\"Autres\"])[[\"Autres\"]]\n",
    "\n",
    "df_final_all_all = pd.concat([vrac_all_all, conditionne_all_all],axis=1)\n",
    "df_final_all_all = pd.concat([df_final_all_all, autres_all_all],axis=1)\n",
    "\n",
    "df_final_all_all['couleur'] = \"TOUT\"\n",
    "df_final_all_all['filtre_produit'] = \"TOUT\"\n",
    "\n",
    "df_final_all_all = df_final_all_all.reset_index()\n",
    "df_final_all_all.set_index(['identifiant','filtre_produit','couleur'], inplace = True)\n",
    "\n",
    "#df_final_all_all"
   ]
  },
  {
   "cell_type": "code",
   "execution_count": null,
   "id": "occupied-turner",
   "metadata": {},
   "outputs": [],
   "source": [
    "#MERGE DES 3 SOUS TABLEAUX :\n",
    "df_final = pd.concat([df_final_spe_spe, df_final_spe_all])\n",
    "df_final = pd.concat([df_final, df_final_all_all])\n",
    "df_final = df_final.sort_values(by=['identifiant', 'filtre_produit','couleur'])\n",
    "\n",
    "#df_final"
   ]
  },
  {
   "cell_type": "code",
   "execution_count": null,
   "id": "marked-smoke",
   "metadata": {},
   "outputs": [],
   "source": [
    "def create_graphe(final,identifiant,appellation,couleur):\n",
    "    fig = px.bar(final, x=\"campagne\", y=\"volume\", color=\"variable\",color_discrete_sequence=[\"blue\", \"red\", \"purple\"],\n",
    "                 text_auto=True,\n",
    "                 title=\"Evolution de MES sorties de Chais Vrac/Conditionné <br>(en hl, Sources \"+source+\")\")\n",
    "    fig.update_layout(xaxis_title=None, \n",
    "                      yaxis_title=None,\n",
    "                      legend_title=None,\n",
    "                      paper_bgcolor=\"#b7e1e5\",\n",
    "                      plot_bgcolor = \"white\",\n",
    "                      hovermode = False,\n",
    "                      yaxis=dict(tickformat=\".0f\"),\n",
    "                      legend=dict(orientation=\"h\",xanchor = \"center\",x = 0.5)\n",
    "                     )\n",
    "    fig.for_each_xaxis(lambda x: x.update(showgrid=False))\n",
    "    fig.for_each_yaxis(lambda x: x.update(gridcolor='Lightgrey'))\n",
    "    fig.update_xaxes(fixedrange=True)\n",
    "    fig.update_yaxes(fixedrange=True)\n",
    "    #fig.show()\n",
    "\n",
    "    dossier = dossier_graphes+\"/\"+identifiant+\"/\"+appellation+\"-\"+couleur\n",
    "    pathlib.Path(dossier).mkdir(parents=True, exist_ok=True)\n",
    "\n",
    "    fig.write_html(dossier+\"/graphe2.html\",include_plotlyjs=False)\n",
    "\n",
    "    return"
   ]
  },
  {
   "cell_type": "code",
   "execution_count": null,
   "id": "considerable-equipment",
   "metadata": {},
   "outputs": [],
   "source": [
    "for bloc in df_final.index.unique():\n",
    "        df = df_final.loc[[bloc]]\n",
    "        df = df.reset_index()\n",
    "        df = pd.melt(df, id_vars=['identifiant','filtre_produit','couleur','campagne'], value_vars=['Vrac','Conditionné','Autres'])\n",
    "        df.rename(columns = {'value':'volume'}, inplace = True)\n",
    "        create_graphe(df,bloc[0],bloc[1],bloc[2])"
   ]
  }
 ],
 "metadata": {
  "kernelspec": {
   "display_name": "Python 3",
   "language": "python",
   "name": "python3"
  },
  "language_info": {
   "codemirror_mode": {
    "name": "ipython",
    "version": 3
   },
   "file_extension": ".py",
   "mimetype": "text/x-python",
   "name": "python",
   "nbconvert_exporter": "python",
   "pygments_lexer": "ipython3",
   "version": "3.9.2"
  }
 },
 "nbformat": 4,
 "nbformat_minor": 5
}
