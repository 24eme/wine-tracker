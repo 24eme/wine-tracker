{
 "cells": [
  {
   "cell_type": "code",
   "execution_count": null,
   "id": "automated-poison",
   "metadata": {},
   "outputs": [],
   "source": [
    "import pandas as pd\n",
    "import plotly.express as px\n",
    "import argparse"
   ]
  },
  {
   "cell_type": "code",
   "execution_count": null,
   "id": "international-graduate",
   "metadata": {},
   "outputs": [],
   "source": [
    "#arguments\n",
    "id_operateur=\"XXXXX-XX\"\n",
    "\n",
    "parser = argparse.ArgumentParser()\n",
    "parser.add_argument(\"id_operateur\", help=\"Identifiant opérateur\", default=id_operateur, nargs='?')\n",
    "\n",
    "try:\n",
    "    args = parser.parse_args()\n",
    "    id_operateur = args.id_operateur\n",
    "except:\n",
    "    print(\"Arguments pas défaut\")"
   ]
  },
  {
   "cell_type": "code",
   "execution_count": null,
   "id": "internal-ceiling",
   "metadata": {},
   "outputs": [],
   "source": [
    "dossier_graphes=\"../../graphes/\"\n",
    "csv = \"../../data/drm/export_bi_mouvements.csv\"\n",
    "source = \"DRM Inter-Rhône\""
   ]
  },
  {
   "cell_type": "code",
   "execution_count": null,
   "id": "ready-cartridge",
   "metadata": {},
   "outputs": [],
   "source": [
    "#préparations des données de l'opérateur sans filtres\n",
    "mouvements = pd.read_csv(csv, sep=\";\",encoding=\"iso8859_15\", low_memory=False)\n",
    "mouvements.rename(columns = {'identifiant declarant':'identifiant_declarant'}, inplace = True)\n",
    "mouvements = mouvements.query(\"identifiant_declarant == @id_operateur\").reset_index()\n",
    "mouvements[\"volume mouvement\"] = mouvements[\"volume mouvement\"]*(-1)\n"
   ]
  },
  {
   "cell_type": "code",
   "execution_count": null,
   "id": "northern-india",
   "metadata": {},
   "outputs": [],
   "source": [
    "#applications des filtres \n",
    "mouvements['sorties'] = mouvements[\"type de mouvement\"].str.lower().str.startswith(\"sorties/\")\n",
    "sorties = mouvements.query(\"sorties == True\")\n",
    "\n",
    "sorties = sorties.groupby(['campagne', 'periode'])['volume mouvement'].sum().reset_index()\n",
    "sorties['mois'] = sorties[\"periode\"].str.extract('.*(\\d{2})', expand = False)\n",
    "\n",
    "mois = { \"08\" : \"Août\" , \"09\" : \"Septembre\", \"10\" : \"Octobre\", \"11\" : \"Novembre\" , \"12\" : \"Décembre\",\n",
    "        \"01\" : \"Janvier\", \"02\" : \"Février\", \"03\" : \"Mars\", \"04\" : \"Avril\", \"05\" : \"Mai\", \"06\" : \"Juin\", \n",
    "        \"07\" : \"Juillet\" }\n",
    "\n",
    "sorties['mois'] = sorties['mois'].map(mois,na_action=None)\n"
   ]
  },
  {
   "cell_type": "code",
   "execution_count": null,
   "id": "virgin-matter",
   "metadata": {},
   "outputs": [],
   "source": [
    "# CREATION DU GRAPHE\n",
    "fig = px.histogram(sorties, x=\"mois\", y=\"volume mouvement\",\n",
    "             color='campagne', barmode='group',\n",
    "             height=500)\n",
    "fig.update_layout(xaxis_title=None, \n",
    "                  yaxis_title=None,\n",
    "                  legend_title=None,\n",
    "                  paper_bgcolor=\"#b7e1e5\",\n",
    "                  plot_bgcolor = \"white\",\n",
    "                  yaxis=dict(tickformat=\".f\"),                  \n",
    "                  legend=dict(orientation=\"h\",xanchor = \"center\",x = 0.5)\n",
    "                 )\n",
    "fig.for_each_xaxis(lambda x: x.update(showgrid=False))\n",
    "fig.for_each_yaxis(lambda x: x.update(gridcolor='Lightgrey'))\n",
    "fig.update_xaxes(fixedrange=True)\n",
    "fig.update_yaxes(fixedrange=True)\n",
    "fig.show()"
   ]
  },
  {
   "cell_type": "code",
   "execution_count": null,
   "id": "alternate-victoria",
   "metadata": {},
   "outputs": [],
   "source": [
    "# GRAPHE DANS UN FICHIER HTML\n",
    "fig.write_html(dossier_graphes+id_operateur+\"_graphe3.html\")"
   ]
  }
 ],
 "metadata": {
  "kernelspec": {
   "display_name": "Python 3",
   "language": "python",
   "name": "python3"
  },
  "language_info": {
   "codemirror_mode": {
    "name": "ipython",
    "version": 3
   },
   "file_extension": ".py",
   "mimetype": "text/x-python",
   "name": "python",
   "nbconvert_exporter": "python",
   "pygments_lexer": "ipython3",
   "version": "3.9.2"
  }
 },
 "nbformat": 4,
 "nbformat_minor": 5
}
