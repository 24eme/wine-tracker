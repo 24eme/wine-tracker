{
 "cells": [
  {
   "cell_type": "code",
   "execution_count": null,
   "id": "empty-priest",
   "metadata": {},
   "outputs": [],
   "source": [
    "import pandas as pd\n",
    "import plotly.express as px\n",
    "import argparse"
   ]
  },
  {
   "cell_type": "code",
   "execution_count": null,
   "id": "expanded-hudson",
   "metadata": {},
   "outputs": [],
   "source": [
    "dossier_graphes=\"graphes/\"\n",
    "csv = \"data/drm/export_bi_mouvements.csv\"\n",
    "source = \"DRM Inter-Rhône\""
   ]
  },
  {
   "cell_type": "code",
   "execution_count": null,
   "id": "incoming-plastic",
   "metadata": {},
   "outputs": [],
   "source": [
    "#arguments\n",
    "id_operateur=None\n",
    "\n",
    "parser = argparse.ArgumentParser()\n",
    "parser.add_argument(\"id_operateur\", help=\"Identifiant opérateur\", default=id_operateur, nargs='?')\n",
    "\n",
    "try:\n",
    "   args = parser.parse_args()\n",
    "   id_operateur = args.id_operateur\n",
    "except:\n",
    "   print(\"Arguments pas défaut\")\n"
   ]
  },
  {
   "cell_type": "code",
   "execution_count": null,
   "id": "hourly-terrorism",
   "metadata": {},
   "outputs": [],
   "source": [
    "#préparations des données de l'opérateur sans filtres\n",
    "mouvements = pd.read_csv(csv, sep=\";\",encoding=\"iso8859_15\", low_memory=False)\n",
    "mouvements[\"volume mouvement\"] = mouvements[\"volume mouvement\"]*(-1)\n",
    "mouvements.rename(columns = {'identifiant declarant':'identifiant_declarant'}, inplace = True)"
   ]
  },
  {
   "cell_type": "code",
   "execution_count": null,
   "id": "russian-solution",
   "metadata": {},
   "outputs": [],
   "source": [
    "def create_graph(id_operateur,mouvements):\n",
    "    \n",
    "    mouvements = mouvements.query(\"identifiant_declarant == @id_operateur\").reset_index()\n",
    "    #applications des filtres\n",
    "    mouvements.rename(columns = {'type de mouvement':'type_de_mouvement'}, inplace = True)\n",
    "    mouvements['sorties'] = mouvements[\"type_de_mouvement\"].str.lower().str.startswith(\"sorties/\")\n",
    "    mouvements = mouvements.query(\"sorties == True\")\n",
    "    mouvements = mouvements.groupby(['campagne','type_de_mouvement'])[\"volume mouvement\"].sum().reset_index()\n",
    "    mouvements = mouvements.sort_values(by=['campagne']).reset_index()\n",
    "\n",
    "    #SUR LES 10 dernières années :\n",
    "    first_campagne = mouvements['campagne'][0][0 : 4]\n",
    "    last_campagne = mouvements['campagne'][len(mouvements)-1][0 :4]\n",
    "    limit_start_with = int(last_campagne)-10\n",
    "\n",
    "    if(int(first_campagne) < limit_start_with):\n",
    "        #il faut couper le tableau final et prendre seulement les derniers.\n",
    "        limit_start_with = str(limit_start_with)+\"-\"+str(limit_start_with+1)\n",
    "        index_where_slice = mouvements.index[final['campagne'] == limit_start_with].tolist()[0]\n",
    "        mouvements = (mouvements.iloc[index_where_slice:len(mouvements)-1]).reset_index()\n",
    "\n",
    "\n",
    "    # CREATION DU GRAPHE\n",
    "    fig = px.bar(mouvements, x=\"campagne\", y=\"volume mouvement\", color=\"type_de_mouvement\",\n",
    "                 text_auto=True,\n",
    "                 title=\"Evolution de MES sorties de Chais Vrac/Conditionné <br>(en hl, Sources \"+source+\")\")\n",
    "    fig.update_layout(xaxis_title=None, \n",
    "                      yaxis_title=None,\n",
    "                      legend_title=None,\n",
    "                      paper_bgcolor=\"#b7e1e5\",\n",
    "                      plot_bgcolor = \"white\",\n",
    "                      hovermode = False,\n",
    "                      yaxis=dict(tickformat=\".0f\"),\n",
    "                      legend=dict(orientation=\"h\",xanchor = \"center\",x = 0.5)\n",
    "                     )\n",
    "    fig.for_each_xaxis(lambda x: x.update(showgrid=False))\n",
    "    fig.for_each_yaxis(lambda x: x.update(gridcolor='Lightgrey'))\n",
    "    fig.update_xaxes(fixedrange=True)\n",
    "    fig.update_yaxes(fixedrange=True)\n",
    "    #fig.show()\n",
    "\n",
    "\n",
    "    fig.write_html(dossier_graphes+id_operateur+\"_graphe2bis.html\")\n",
    "    return\n"
   ]
  },
  {
   "cell_type": "code",
   "execution_count": null,
   "id": "danish-government",
   "metadata": {},
   "outputs": [],
   "source": [
    "if(id_operateur):\n",
    "    create_graph(id_operateur,mouvements)\n",
    "else :\n",
    "    for identifiant in mouvements.identifiant_declarant.unique():\n",
    "        create_graph(identifiant,mouvements)"
   ]
  }
 ],
 "metadata": {
  "kernelspec": {
   "display_name": "Python 3",
   "language": "python",
   "name": "python3"
  },
  "language_info": {
   "codemirror_mode": {
    "name": "ipython",
    "version": 3
   },
   "file_extension": ".py",
   "mimetype": "text/x-python",
   "name": "python",
   "nbconvert_exporter": "python",
   "pygments_lexer": "ipython3",
   "version": "3.9.2"
  }
 },
 "nbformat": 4,
 "nbformat_minor": 5
}
