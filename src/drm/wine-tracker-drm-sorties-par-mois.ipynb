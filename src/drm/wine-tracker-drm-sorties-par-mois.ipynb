{
 "cells": [
  {
   "cell_type": "code",
   "execution_count": null,
   "id": "behavioral-flush",
   "metadata": {},
   "outputs": [],
   "source": [
    "import pandas as pd\n",
    "import plotly.express as px\n",
    "import argparse"
   ]
  },
  {
   "cell_type": "code",
   "execution_count": null,
   "id": "fixed-dining",
   "metadata": {},
   "outputs": [],
   "source": [
    "dossier_graphes = \"graphes/\"\n",
    "csv = \"data/drm/export_bi_mouvements.csv\"\n",
    "source = \"DRM Inter-Rhône\"\n",
    "\n",
    "mois = { \"08\" : \"Août\" , \"09\" : \"Septembre\", \"10\" : \"Octobre\", \"11\" : \"Novembre\" , \"12\" : \"Décembre\",\n",
    "        \"01\" : \"Janvier\", \"02\" : \"Février\", \"03\" : \"Mars\", \"04\" : \"Avril\", \"05\" : \"Mai\", \"06\" : \"Juin\",\n",
    "        \"07\" : \"Juillet\" }"
   ]
  },
  {
   "cell_type": "code",
   "execution_count": null,
   "id": "civil-turkey",
   "metadata": {},
   "outputs": [],
   "source": [
    "#arguments\n",
    "id_operateur=None\n",
    "\n",
    "parser = argparse.ArgumentParser()\n",
    "parser.add_argument(\"id_operateur\", help=\"Identifiant opérateur\", default=id_operateur, nargs='?')\n",
    "\n",
    "try:\n",
    "   args = parser.parse_args()\n",
    "   id_operateur = args.id_operateur\n",
    "except:\n",
    "   print(\"Arguments pas défaut\")\n"
   ]
  },
  {
   "cell_type": "code",
   "execution_count": null,
   "id": "private-battery",
   "metadata": {},
   "outputs": [],
   "source": [
    "#préparations des données de l'opérateur sans filtres\n",
    "mouvements = pd.read_csv(csv, sep=\";\",encoding=\"iso8859_15\", low_memory=False)\n",
    "mouvements[\"volume mouvement\"] = mouvements[\"volume mouvement\"]*(-1)\n",
    "mouvements.rename(columns = {'identifiant declarant':'identifiant_declarant'}, inplace = True)\n"
   ]
  },
  {
   "cell_type": "code",
   "execution_count": null,
   "id": "monthly-rolling",
   "metadata": {},
   "outputs": [],
   "source": [
    "def create_graph(id_operateur,mouvements):\n",
    "    mouvements['sorties'] = mouvements[\"type de mouvement\"].str.lower().str.startswith(\"sorties/\")\n",
    "    sorties = mouvements.query(\"sorties == True\")\n",
    "\n",
    "    sorties = sorties.groupby(['campagne', 'periode'])['volume mouvement'].sum().reset_index()\n",
    "\n",
    "    #SUR LES 5 dernières années :\n",
    "    first_campagne = sorties['campagne'][0][0 : 4]\n",
    "    last_campagne = sorties['campagne'][len(sorties)-1][0 :4]\n",
    "    limit_start_with = int(last_campagne)-5\n",
    "\n",
    "    if(int(first_campagne) < limit_start_with):\n",
    "        #il faut couper le tableau final et prendre seulement les derniers.\n",
    "        limit_start_with = str(limit_start_with)+\"-\"+str(limit_start_with+1)\n",
    "        index_where_slice = sorties.index[sorties['campagne'] == limit_start_with].tolist()[0]\n",
    "        sorties = (sorties.iloc[index_where_slice:len(sorties)-1]).reset_index()\n",
    "\n",
    "    sorties['mois'] = sorties[\"periode\"].str.extract('.*(\\d{2})', expand = False)\n",
    "\n",
    "    sorties = sorties.sort_values(by=[\"mois\",'campagne']).reset_index()\n",
    "\n",
    "    sorties['mois'] = sorties['mois'].map(mois,na_action=None)\n",
    "\n",
    "    mois_sort = { \"Août\" : \"01\" , \"Septembre\" : \"02\", \"Octobre\" : \"03\", \"Novembre\" : \"04\" , \"Décembre\" : \"05\",\n",
    "            \"Janvier\" : \"06\", \"Février\" : \"07\", \"Mars\" : \"08\", \"Avril\" : \"09\", \"Mai\" : \"10\", \"Juin\" : \"11\",\n",
    "            \"Juillet\" : \"12\" }\n",
    "\n",
    "\n",
    "    sorties['ordre_mois']= sorties['mois'].map(mois_sort,na_action=None)\n",
    "\n",
    "    del sorties['level_0']\n",
    "\n",
    "    sorties = sorties.sort_values(by=[\"ordre_mois\",'campagne']).reset_index()\n",
    "\n",
    "    del sorties['level_0']\n",
    "    del sorties['index']\n",
    "    #print(sorties)\n",
    "\n",
    "    # CREATION DU GRAPHE\n",
    "    fig = px.histogram(sorties, x=\"mois\", y=\"volume mouvement\",\n",
    "                 color='campagne', barmode='group',\n",
    "                 height=500,\n",
    "                 title=\"Evolution de MES sorties de Chais <br>(en hl, Sources \"+source+\"-Cumul depuis le début de la campagne)\")\n",
    "    fig.update_layout(xaxis_title=None,\n",
    "                      yaxis_title=None,\n",
    "                      legend_title=None,\n",
    "                      paper_bgcolor=\"#b7e1e5\",\n",
    "                      plot_bgcolor = \"white\",\n",
    "                      yaxis=dict(tickformat=\".f\"),\n",
    "                      legend=dict(orientation=\"h\",xanchor = \"center\",x = 0.5)\n",
    "                     )\n",
    "    fig.for_each_xaxis(lambda x: x.update(showgrid=False))\n",
    "    fig.for_each_yaxis(lambda x: x.update(gridcolor='Lightgrey'))\n",
    "    fig.update_xaxes(fixedrange=True)\n",
    "    fig.update_yaxes(fixedrange=True)\n",
    "    #fig.show()\n",
    "\n",
    "    # GRAPHE DANS UN FICHIER HTML\n",
    "    fig.write_html(dossier_graphes+id_operateur+\"_graphe3.html\",include_plotlyjs=False)\n",
    "    return"
   ]
  },
  {
   "cell_type": "code",
   "execution_count": null,
   "id": "fewer-necessity",
   "metadata": {},
   "outputs": [],
   "source": [
    "if(id_operateur):\n",
    "    create_graph(id_operateur,mouvements)\n",
    "else :\n",
    "    for identifiant in mouvements.identifiant_declarant.unique():\n",
    "        create_graph(identifiant,mouvements)"
   ]
  }
 ],
 "metadata": {
  "kernelspec": {
   "display_name": "Python 3",
   "language": "python",
   "name": "python3"
  },
  "language_info": {
   "codemirror_mode": {
    "name": "ipython",
    "version": 3
   },
   "file_extension": ".py",
   "mimetype": "text/x-python",
   "name": "python",
   "nbconvert_exporter": "python",
   "pygments_lexer": "ipython3",
   "version": "3.9.2"
  }
 },
 "nbformat": 4,
 "nbformat_minor": 5
}
