{
 "cells": [
  {
   "cell_type": "code",
   "execution_count": null,
   "id": "silent-mainland",
   "metadata": {},
   "outputs": [],
   "source": [
    "import pandas as pd\n",
    "import argparse\n",
    "import pathlib\n",
    "from pathlib import Path\n",
    "from datetime import datetime\n",
    "import json\n",
    "import re\n",
    "\n",
    "path = pathlib.Path().absolute()\n",
    "path = str(path).replace(\"src/drm\",\"\")\n",
    "dossier_graphes=path+\"/graphes/\"\n",
    "csv = path+\"/data/drm/export_bi_drm_stock.csv\"  #il manque un ; à la fin du header."
   ]
  },
  {
   "cell_type": "code",
   "execution_count": null,
   "id": "careful-understanding",
   "metadata": {},
   "outputs": [],
   "source": [
    "id_operateur=None\n",
    "\n",
    "parser = argparse.ArgumentParser()\n",
    "parser.add_argument(\"id_operateur\", help=\"Identifiant opérateur\", default=id_operateur, nargs='?')\n",
    "\n",
    "try:\n",
    "   args = parser.parse_args()\n",
    "   id_operateur = args.id_operateur\n",
    "except:\n",
    "   print(\"Arguments pas défaut\")"
   ]
  },
  {
   "cell_type": "code",
   "execution_count": null,
   "id": "seeing-guidance",
   "metadata": {},
   "outputs": [],
   "source": [
    "#creation d'un fichier json par operateur\n",
    "drm = pd.read_csv(csv, sep=\";\",encoding=\"utf-8\")\n",
    "\n",
    "def get_json(id_operateur,csv):\n",
    "    csv= csv.query(\"identifiant == @id_operateur\").reset_index()\n",
    "    nom = csv.nom.unique()[0]\n",
    "    date = datetime.today().strftime('%d/%m/%Y')\n",
    "\n",
    "    csv['filtre_produits'] = csv['appellations'] + \"-\" + csv['lieux'] + \"-\" +csv['certifications']+ \"-\" +csv['genres']+ \"-\" +csv['mentions']+ \"-\" +csv['couleurs'].str.upper()\n",
    "\n",
    "    produits = csv[[\"filtre_produits\",\"libelle produit\"]] #,\"couleurs\"\n",
    "    produits = produits.drop_duplicates()\n",
    "    #produits.groupby(['filtre_produits','couleurs'])\n",
    "\n",
    "    produits = produits.set_index(['filtre_produits']).T.to_dict('records') #,\"couleurs\"\n",
    "    produits = produits[0]\n",
    "\n",
    "    appellations = csv['appellations'] + \"-\" + csv['lieux'] + \"-\" +csv['certifications']+ \"-\" +csv['genres']+ \"-\" +csv['mentions']\n",
    "    appellations = appellations.unique()\n",
    "\n",
    "    couleurs = csv['couleurs'].str.upper().unique()\n",
    "\n",
    "    for element in appellations :\n",
    "        if not element+\"-TOUT\" in produits.keys():\n",
    "            for couleur in couleurs :\n",
    "                if(element+\"-\"+couleur in produits.keys()):\n",
    "                    pattern = re.compile(couleur, re.IGNORECASE)\n",
    "                    appellation = pattern.sub(\"\",produits[element+\"-\"+couleur])\n",
    "                    produits[element+\"-TOUT\"] = appellation\n",
    "                    break\n",
    "\n",
    "    produits[\"TOUT-TOUT\"] = \"TOUT\"\n",
    "\n",
    "    # Data to be written\n",
    "    dictionary ={\n",
    "        \"name\" : nom,\n",
    "        \"date\" : date,\n",
    "        \"produits\": produits\n",
    "    }\n",
    "\n",
    "    with open(dossier_graphes+id_operateur+\"/\"+id_operateur+\".json\", \"w\") as outfile:\n",
    "        json.dump(dictionary, outfile)\n",
    "\n",
    "    return\n",
    "\n",
    "if(id_operateur):\n",
    "    get_json(id_operateur,drm)\n",
    "else:\n",
    "    for identifiant in drm.identifiant.unique():\n",
    "        get_json(identifiant,drm)"
   ]
  }
 ],
 "metadata": {
  "kernelspec": {
   "display_name": "Python 3",
   "language": "python",
   "name": "python3"
  },
  "language_info": {
   "codemirror_mode": {
    "name": "ipython",
    "version": 3
   },
   "file_extension": ".py",
   "mimetype": "text/x-python",
   "name": "python",
   "nbconvert_exporter": "python",
   "pygments_lexer": "ipython3",
   "version": "3.9.2"
  }
 },
 "nbformat": 4,
 "nbformat_minor": 5
}
