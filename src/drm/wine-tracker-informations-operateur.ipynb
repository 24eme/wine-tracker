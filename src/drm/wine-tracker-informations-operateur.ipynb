{
 "cells": [
  {
   "cell_type": "code",
   "execution_count": null,
   "id": "silent-mainland",
   "metadata": {},
   "outputs": [],
   "source": [
    "import pandas as pd\n",
    "import argparse\n",
    "import pathlib\n",
    "from pathlib import Path\n",
    "from datetime import datetime\n",
    "import json\n",
    "\n",
    "path = pathlib.Path().absolute()\n",
    "path = str(path).replace(\"src/drm\",\"\")\n",
    "dossier_graphes=path+\"/graphes/\"\n",
    "csv = path+\"/data/drm/export_bi_drm_stock.csv\"  #il manque un ; à la fin du header."
   ]
  },
  {
   "cell_type": "code",
   "execution_count": null,
   "id": "careful-understanding",
   "metadata": {},
   "outputs": [],
   "source": [
    "id_operateur=None\n",
    "\n",
    "parser = argparse.ArgumentParser()\n",
    "parser.add_argument(\"id_operateur\", help=\"Identifiant opérateur\", default=id_operateur, nargs='?')\n",
    "\n",
    "try:\n",
    "   args = parser.parse_args()\n",
    "   id_operateur = args.id_operateur\n",
    "except:\n",
    "   print(\"Arguments pas défaut\")"
   ]
  },
  {
   "cell_type": "code",
   "execution_count": null,
   "id": "seeing-guidance",
   "metadata": {},
   "outputs": [],
   "source": [
    "#creation d'un fichier json par operateur\n",
    "drm = pd.read_csv(csv, sep=\";\",encoding=\"utf-8\")\n",
    "\n",
    "def get_json(id_operateur,csv):\n",
    "    csv= csv.query(\"identifiant == @id_operateur\").reset_index()\n",
    "    nom = csv.nom.unique()[0]\n",
    "    date = datetime.today().strftime('%d/%m/%Y')\n",
    "    \n",
    "    import json\n",
    "    \n",
    "    # Data to be written\n",
    "    dictionary ={\n",
    "        \"name\" : nom,\n",
    "        \"date\" : date\n",
    "    }\n",
    "    \n",
    "    with open(dossier_graphes+id_operateur+\"/\"+id_operateur+\".json\", \"w\") as outfile:\n",
    "        json.dump(dictionary, outfile)\n",
    "\n",
    "    return\n",
    "\n",
    "\n",
    "if(id_operateur):\n",
    "    get_json(id_operateur,drm)\n",
    "else:\n",
    "    for identifiant in drm.identifiant.unique():\n",
    "        get_json(identifiant,drm)"
   ]
  }
 ],
 "metadata": {
  "kernelspec": {
   "display_name": "Python 3",
   "language": "python",
   "name": "python3"
  },
  "language_info": {
   "codemirror_mode": {
    "name": "ipython",
    "version": 3
   },
   "file_extension": ".py",
   "mimetype": "text/x-python",
   "name": "python",
   "nbconvert_exporter": "python",
   "pygments_lexer": "ipython3",
   "version": "3.9.2"
  }
 },
 "nbformat": 4,
 "nbformat_minor": 5
}
