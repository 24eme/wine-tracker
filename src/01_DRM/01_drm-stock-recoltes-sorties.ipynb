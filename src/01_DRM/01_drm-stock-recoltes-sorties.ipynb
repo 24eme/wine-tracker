{
 "cells": [
  {
   "cell_type": "code",
   "execution_count": null,
   "id": "weird-found",
   "metadata": {},
   "outputs": [],
   "source": [
    "import pandas as pd\n",
    "import numpy as np\n",
    "import plotly.express as px\n",
    "import argparse\n",
    "import pathlib"
   ]
  },
  {
   "cell_type": "code",
   "execution_count": null,
   "id": "numerical-melbourne",
   "metadata": {},
   "outputs": [],
   "source": [
    "path = pathlib.Path().absolute()\n",
    "path = str(path).replace(\"/src\",\"\").replace(\"/01_DRM\",\"\")\n",
    "dossier_graphes=path+\"/graphes/\"\n",
    "csv = path+\"/data/drm/export_bi_drm_stock.csv\"  #il manque un ; à la fin du header.\n",
    "source = \"DRM Inter-Rhône\""
   ]
  },
  {
   "cell_type": "code",
   "execution_count": null,
   "id": "macro-minutes",
   "metadata": {},
   "outputs": [],
   "source": [
    "#arguments\n",
    "id_operateur=None\n",
    "\n",
    "parser = argparse.ArgumentParser()\n",
    "parser.add_argument(\"id_operateur\", help=\"Identifiant opérateur\", default=id_operateur, nargs='?')\n",
    "\n",
    "try:\n",
    "   args = parser.parse_args()\n",
    "   id_operateur = args.id_operateur\n",
    "except:\n",
    "   print(\"Arguments pas défaut\")"
   ]
  },
  {
   "cell_type": "code",
   "execution_count": null,
   "id": "incorporated-aberdeen",
   "metadata": {},
   "outputs": [],
   "source": [
    "#préparations des données de l'opérateur sans filtres\n",
    "drm = pd.read_csv(csv, sep=\";\",encoding=\"iso8859_15\",index_col=False)\n",
    "\n",
    "lastcampagnes = drm['campagne'].unique()\n",
    "lastcampagnes.sort()\n",
    "lastcampagnes = lastcampagnes[-10:]\n",
    "\n",
    "if(id_operateur):\n",
    "    drm = drm.query(\"identifiant == @id_operateur\").reset_index()\n",
    "\n",
    "drm = drm.query('campagne in @lastcampagnes')"
   ]
  },
  {
   "cell_type": "code",
   "execution_count": null,
   "id": "progressive-johnson",
   "metadata": {},
   "outputs": [],
   "source": [
    "#pour les volumes récoltés :\n",
    "\n",
    "csv_mouvements = path+\"/data/drm/export_bi_mouvements.csv\"  #il manque un ; à la fin du header.\n",
    "mouvements = pd.read_csv(csv_mouvements, sep=\";\",encoding=\"iso8859_15\",index_col=False)\n",
    "\n",
    "mouvements.rename(columns = {'identifiant declarant':'identifiant','type de mouvement':'type_de_mouvement','certification':'certifications','genre':'genres','appellation':'appellations','mention':'mentions','lieu':'lieux','couleur':'couleurs'}, inplace = True)\n",
    "\n",
    "if(id_operateur):\n",
    "    mouvements = mouvements.query(\"identifiant == @id_operateur\").reset_index()\n",
    "\n",
    "mouvements = mouvements.query('campagne in @lastcampagnes')\n",
    "mouvements = mouvements[mouvements['periode'] > '2013-12']\n",
    "#mouvements"
   ]
  },
  {
   "cell_type": "code",
   "execution_count": null,
   "id": "future-constant",
   "metadata": {},
   "outputs": [],
   "source": [
    "drm['filtre_produit'] = drm['appellations'] + \"-\" + drm['lieux'] + \"-\" +drm['certifications']+ \"-\" +drm['genres']+ \"-\" +drm['mentions']\n",
    "mouvements['filtre_produit'] = mouvements['appellations'] + \"-\" + mouvements['lieux'] + \"-\" +mouvements['certifications']+ \"-\" +mouvements['genres']+ \"-\" +mouvements['mentions']"
   ]
  },
  {
   "cell_type": "code",
   "execution_count": null,
   "id": "controlled-front",
   "metadata": {},
   "outputs": [],
   "source": [
    "# PAR APPELLATION ET COULEUR\n",
    "\n",
    "#SOMME RECOLTE DEPUIS LES MOUVEMENTS : RECOLTES\n",
    "drm_recolte = mouvements.query(\"type_de_mouvement == 'entrees/recolte'\")\n",
    "drm_recolte = drm_recolte.groupby([\"identifiant\", \"campagne\",\"filtre_produit\", \"couleurs\"]).sum([\"volume mouvement\"])[[\"volume mouvement\"]]\n",
    "\n",
    "#SOMME SORTIES\n",
    "typedemouvementssorties = ['sorties/vrac','sorties/crd', 'sorties/factures', 'sorties/export','sorties/consommation']\n",
    "drm_sortie = mouvements.query(\"type_de_mouvement in @typedemouvementssorties\").reset_index()\n",
    "drm_sortie = drm_sortie[drm_sortie['libelle type'] == 'Suspendu']\n",
    "drm_sortie = drm_sortie.groupby([\"identifiant\", \"campagne\",\"filtre_produit\", \"couleurs\"]).sum([\"volume mouvement\"])[[\"volume mouvement\"]]\n",
    "\n",
    "\n",
    "#drm_sortie = drm.groupby([\"identifiant\", \"campagne\",\"filtre_produit\", \"couleurs\"]).sum([\"sortie\"])[[\"sortie\"]]\n",
    "\n",
    "#SOMME STOCK DEBUT DE CAMPAGNE\n",
    "drm_stock_debut = drm\n",
    "drm_stock_debut['debut_campagne'] = drm[\"date\"].str.lower().str.endswith(\"08\")\n",
    "drm_stock_debut = drm_stock_debut.query(\"debut_campagne == True\")\n",
    "drm_stock_debut = drm_stock_debut.groupby([\"identifiant\", \"campagne\",\"filtre_produit\", \"couleurs\"]).first([\"stock debut\"])[[\"stock debut\"]]\n",
    "\n",
    "df_final = pd.merge(drm_recolte, drm_sortie,how='outer', on=[\"identifiant\", \"campagne\",\"filtre_produit\", \"couleurs\"])\n",
    "df_final = pd.merge(df_final, drm_stock_debut ,how='outer', on=[\"identifiant\", \"campagne\",\"filtre_produit\", \"couleurs\"])\n",
    "\n",
    "\n",
    "drm_stock_sortie = drm.groupby([\"identifiant\", \"campagne\",\"filtre_produit\", \"couleurs\"]).sum([\"sortie\"])[[\"sortie\"]]\n",
    "df_final = pd.merge(df_final, drm_stock_sortie, how='outer', on=[\"identifiant\", \"campagne\",\"filtre_produit\", \"couleurs\"])\n",
    "\n",
    "df_final = df_final.reset_index()\n",
    "\n",
    "df_final['couleurs'] = df_final['couleurs'].str.upper()\n",
    "\n",
    "df_final.index = [df_final['identifiant'],df_final['filtre_produit'],df_final['couleurs'],df_final['campagne']]\n",
    "df_final = df_final[['stock debut', 'volume mouvement_x', 'volume mouvement_y', 'sortie']]\n",
    "df_final.rename(columns = {'stock debut': 'Stock physique en début de camp production (hl)','volume mouvement_x' : 'Récoltes (hl)', 'volume mouvement_y' : 'Sorties de chais (hl)'}, inplace = True)\n",
    "\n",
    "#df_final"
   ]
  },
  {
   "cell_type": "code",
   "execution_count": null,
   "id": "3ae9a658",
   "metadata": {},
   "outputs": [],
   "source": [
    "couleur_group = df_final.groupby([\"identifiant\",\"campagne\",\"filtre_produit\"]).sum(['Récoltes (hl)','Sorties de chais (hl)','Stock physique en début de camp production (hl)','sortie'])\n",
    "couleur_group['couleurs'] = 'TOUT'\n",
    "\n",
    "produit_group = couleur_group.groupby([\"identifiant\",\"campagne\"]).sum(['Récoltes (hl)','Sorties de chais (hl)','Stock physique en début de camp production (hl)','sortie']).reset_index()\n",
    "produit_group['filtre_produit'] = 'TOUT'\n",
    "produit_group['couleurs'] = 'TOUT'\n",
    "\n",
    "df_final = pd.concat([df_final.reset_index(), couleur_group.reset_index(), produit_group.reset_index()], ignore_index=True)\n",
    "df_final.set_index(['identifiant', 'filtre_produit', 'couleurs'], inplace=True)"
   ]
  },
  {
   "cell_type": "code",
   "execution_count": null,
   "id": "sophisticated-brunei",
   "metadata": {},
   "outputs": [],
   "source": [
    "df_final.fillna(0, inplace=True)\n",
    "df_final = df_final.round({'Récoltes (hl)': 0, 'Sorties de chais (hl)': 0, \"Stock physique en début de camp production (hl)\":0, 'sortie': 0})\n",
    "\n",
    "df_final = df_final[['campagne', 'Stock physique en début de camp production (hl)','Récoltes (hl)','Sorties de chais (hl)']] #, 'sortie'\n",
    "#df_final"
   ]
  },
  {
   "cell_type": "code",
   "execution_count": null,
   "id": "average-negative",
   "metadata": {},
   "outputs": [],
   "source": [
    "def create_graphique(data,graph_filename):\n",
    "\n",
    "    # CREATION DU GRAPHE\n",
    "    fig = px.line(data, x=\"campagne\", y=data.columns, color='variable', markers=True, symbol=\"variable\",color_discrete_sequence=[\"blue\",\"green\",\"#ea4f57\"],\n",
    "                  title=\"Ma cave\",height=650)\n",
    "    fig.update_traces(mode=\"markers+lines\", hovertemplate=None)\n",
    "    fig.update_layout(hovermode=\"x\")\n",
    "    fig.update_layout(title={\n",
    "                        'text': \"<b>MA CAVE</b>\",\n",
    "                        'y':0.9,\n",
    "                        'x':0.5,\n",
    "                        'xanchor': 'center',\n",
    "                        'yanchor': 'top'},\n",
    "                      title_font_size=24,\n",
    "                      title_font_color='#f7bb58',\n",
    "                      xaxis_title=None,\n",
    "                      yaxis_title=None,\n",
    "                      legend_title=None,\n",
    "                      paper_bgcolor=\"white\",\n",
    "                      plot_bgcolor = \"white\",\n",
    "                      legend=dict(orientation=\"h\",xanchor = \"center\",x = 0.5),\n",
    "                      legend_itemdoubleclick=False,\n",
    "                     )\n",
    "\n",
    "    fig.update_yaxes(tickformat=\",\")\n",
    "    fig.update_layout(separators=\"* .*\")\n",
    "\n",
    "    fig.for_each_xaxis(lambda x: x.update(showgrid=False))\n",
    "    fig.for_each_yaxis(lambda x: x.update(gridcolor='Lightgrey'))\n",
    "    fig.update_xaxes(fixedrange=True,showline=True, linewidth=1, linecolor='Lightgrey')\n",
    "    fig.update_yaxes(fixedrange=True,rangemode=\"tozero\")\n",
    "    fig.update_traces(\n",
    "        hovertemplate=\"<br>\".join([\n",
    "            \"%{y} hl\",\n",
    "        ])\n",
    "    )\n",
    "    #fig.show()\n",
    "    fig.write_html(graph_filename,include_plotlyjs=False)\n",
    "\n",
    "    return"
   ]
  },
  {
   "cell_type": "code",
   "execution_count": null,
   "id": "statistical-session",
   "metadata": {},
   "outputs": [],
   "source": [
    "for indexes in df_final.index.unique():\n",
    "    df = df_final.loc[[indexes]]\n",
    "    \n",
    "    cols = df.columns\n",
    "    data = df.reset_index()[cols]\n",
    "    data.sort_values(by='campagne')\n",
    "    \n",
    "    \n",
    "    [identifiant, appellation, couleur] = indexes\n",
    "    dossier = dossier_graphes+\"/\"+identifiant+\"/drm/\"+appellation+\"-\"+couleur\n",
    "    pathlib.Path(dossier).mkdir(parents=True, exist_ok=True)\n",
    "    pathlib.Path(dossier).parent.parent.touch()\n",
    "    \n",
    "    create_graphique(data,dossier+\"/drm-stock-recoltes-sorties.html\")"
   ]
  },
  {
   "cell_type": "code",
   "execution_count": null,
   "id": "664c1099",
   "metadata": {},
   "outputs": [],
   "source": []
  }
 ],
 "metadata": {
  "kernelspec": {
   "display_name": "Python 3 (ipykernel)",
   "language": "python",
   "name": "python3"
  },
  "language_info": {
   "codemirror_mode": {
    "name": "ipython",
    "version": 3
   },
   "file_extension": ".py",
   "mimetype": "text/x-python",
   "name": "python",
   "nbconvert_exporter": "python",
   "pygments_lexer": "ipython3",
   "version": "3.11.2"
  }
 },
 "nbformat": 4,
 "nbformat_minor": 5
}
