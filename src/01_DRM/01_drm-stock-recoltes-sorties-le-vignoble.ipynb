{
 "cells": [
  {
   "cell_type": "code",
   "execution_count": null,
   "id": "motivated-training",
   "metadata": {},
   "outputs": [],
   "source": [
    "import pandas as pd\n",
    "import numpy as np\n",
    "import plotly.express as px\n",
    "import argparse\n",
    "import pathlib"
   ]
  },
  {
   "cell_type": "code",
   "execution_count": null,
   "id": "local-mathematics",
   "metadata": {},
   "outputs": [],
   "source": [
    "path = pathlib.Path().absolute()\n",
    "path = str(path).replace(\"src\",\"\")\n",
    "dossier_graphes=path+\"/graphes/\"\n",
    "csv = path+\"/data/drm/export_bi_drm_stock.csv\"  #il manque un ; à la fin du header.\n",
    "csv_etablissements = path+\"/data/contrats/export_bi_etablissements.csv\"\n",
    "source = \"DRM Inter-Rhône\""
   ]
  },
  {
   "cell_type": "code",
   "execution_count": null,
   "id": "exciting-roulette",
   "metadata": {},
   "outputs": [],
   "source": [
    "drm = pd.read_csv(csv, sep=\";\",encoding=\"iso8859_15\",index_col=False)"
   ]
  },
  {
   "cell_type": "code",
   "execution_count": null,
   "id": "massive-comment",
   "metadata": {},
   "outputs": [],
   "source": [
    "lastcampagnes = drm['campagne'].unique()\n",
    "lastcampagnes.sort()\n",
    "lastcampagnes = lastcampagnes[-10:]\n",
    "drm = drm.query('campagne in @lastcampagnes')"
   ]
  },
  {
   "cell_type": "code",
   "execution_count": null,
   "id": "becoming-oracle",
   "metadata": {},
   "outputs": [],
   "source": [
    "#SEULEMENT DONNEES SUR LES DRM PRODUCTEURS\n",
    "\n",
    "etablissements = pd.read_csv(csv_etablissements, sep=\";\",encoding=\"iso8859_15\",index_col=False)\n",
    "familleproducteurs = ['producteur cave_cooperative','producteur cave_particuliere','producteur vendeur_raisin']\n",
    "etablissements = etablissements.query(\"famille in @familleproducteurs\")\n",
    "\n",
    "identifiantsproducteurs = etablissements['identifiant'].unique()\n",
    "\n",
    "drm = drm.query('identifiant in @identifiantsproducteurs')"
   ]
  },
  {
   "cell_type": "code",
   "execution_count": null,
   "id": "hawaiian-reducing",
   "metadata": {},
   "outputs": [],
   "source": [
    "#pour les volumes récoltés :\n",
    "csv_mouvements = path+\"/data/drm/export_bi_mouvements.csv\"  #il manque un ; à la fin du header.\n",
    "mouvements = pd.read_csv(csv_mouvements, sep=\";\",encoding=\"iso8859_15\",index_col=False)\n",
    "mouvements.rename(columns = {'identifiant declarant':'identifiant','type de mouvement':'type_de_mouvement','certification':'certifications','genre':'genres','appellation':'appellations','mention':'mentions','lieu':'lieux','couleur':'couleurs'}, inplace = True)\n",
    "mouvements = mouvements.query('identifiant in @identifiantsproducteurs')\n",
    "mouvements = mouvements.query('campagne in @lastcampagnes')\n",
    "#mouvements"
   ]
  },
  {
   "cell_type": "code",
   "execution_count": null,
   "id": "induced-avatar",
   "metadata": {},
   "outputs": [],
   "source": [
    "drm['filtre_produit'] = drm['appellations'] + \"-\" + drm['lieux'] + \"-\" +drm['certifications']+ \"-\" +drm['genres']+ \"-\" +drm['mentions']\n",
    "mouvements['filtre_produit'] = mouvements['appellations'] + \"-\" + mouvements['lieux'] + \"-\" +mouvements['certifications']+ \"-\" +mouvements['genres']+ \"-\" +mouvements['mentions']\n"
   ]
  },
  {
   "cell_type": "code",
   "execution_count": null,
   "id": "developing-frederick",
   "metadata": {},
   "outputs": [],
   "source": [
    "# PAR APPELLATION ET COULEUR\n",
    "\n",
    "#SOMME RECOLTES\n",
    "drm_recolte = mouvements.query(\"type_de_mouvement == 'entrees/recolte'\")\n",
    "drm_recolte = drm_recolte.groupby([\"campagne\",'filtre_produit', \"couleurs\"]).sum([\"volume mouvement\"])[[\"volume mouvement\"]]\n",
    "\n",
    "\n",
    "#SOMME SORTIES\n",
    "typedemouvementssorties = ['sorties/vrac','sorties/vrac_contrat','sorties/vrac_export','sorties/crd', 'sorties/factures', 'sorties/export', 'sorties/crd_acquittes', 'sorties/acq_crd','sorties/consommation']\n",
    "drm_sortie = mouvements.query(\"type_de_mouvement in @typedemouvementssorties\").reset_index()\n",
    "drm_sortie = drm_sortie.groupby([\"campagne\",\"filtre_produit\", \"couleurs\"]).sum([\"volume mouvement\"])[[\"volume mouvement\"]]\n",
    "\n",
    "\n",
    "#SOMME STOCK DEBUT DE CAMPAGNE\n",
    "drm_stock_debut = drm\n",
    "drm_stock_debut['debut_campagne'] = drm[\"date\"].str.lower().str.endswith(\"08\")\n",
    "drm_stock_debut = drm_stock_debut.query(\"debut_campagne == True\")\n",
    "drm_stock_debut = drm_stock_debut.groupby([\"campagne\",\"filtre_produit\", \"couleurs\"]).sum([\"stock debut\"])[[\"stock debut\"]]\n",
    "\n",
    "\n",
    "df_final_spe_spe = pd.merge(drm_recolte, drm_sortie,how='outer', on=[\"campagne\",\"filtre_produit\", \"couleurs\"])\n",
    "df_final_spe_spe = pd.merge(df_final_spe_spe, drm_stock_debut ,how='outer', on=[\"campagne\",\"filtre_produit\", \"couleurs\"])\n",
    "\n",
    "df_final_spe_spe = df_final_spe_spe.reset_index()\n",
    "\n",
    "df_final_spe_spe['couleurs'] = df_final_spe_spe['couleurs'].str.upper()\n",
    "\n",
    "df_final_spe_spe.index = [df_final_spe_spe['filtre_produit'],df_final_spe_spe['couleurs']]\n",
    "df_final_spe_spe.drop(['filtre_produit','couleurs'], axis=1, inplace=True)\n",
    "\n",
    "df_final_spe_spe.rename(columns = {'stock debut': 'Stock physique en début de camp production (hl)','volume mouvement_x' : 'Récoltes (hl)', 'volume mouvement_y' : 'Sorties de chais (hl)'}, inplace = True)\n",
    "\n",
    "#df_final_spe_spe\n"
   ]
  },
  {
   "cell_type": "code",
   "execution_count": null,
   "id": "diagnostic-mouth",
   "metadata": {},
   "outputs": [],
   "source": [
    "# PAR APPELLATIONS\n",
    "\n",
    "drm_recolte_spe_all = drm_recolte.groupby([\"campagne\",\"filtre_produit\"]).sum([\"volume mouvement\"])[[\"volume mouvement\"]]\n",
    "drm_sortie_spe_all = drm_sortie.groupby([\"campagne\",\"filtre_produit\"]).sum([\"volume mouvement\"])[[\"volume mouvement\"]]\n",
    "drm_stock_debut_spe_all = drm_stock_debut.groupby([\"campagne\",\"filtre_produit\"]).sum([\"stock debut\"])[[\"stock debut\"]]\n",
    "\n",
    "\n",
    "drm_merge_spe_all = pd.merge(drm_recolte_spe_all, drm_sortie_spe_all,how='outer', on=[\"campagne\",\"filtre_produit\"])\n",
    "drm_merge_spe_all = pd.merge(drm_merge_spe_all, drm_stock_debut_spe_all ,how='outer', on=[\"campagne\",\"filtre_produit\"])\n",
    "\n",
    "drm_merge_spe_all = drm_merge_spe_all.reset_index()\n",
    "\n",
    "drm_merge_spe_all['couleurs'] = \"TOUT\"\n",
    "\n",
    "drm_merge_spe_all.index = [drm_merge_spe_all['filtre_produit'],drm_merge_spe_all['couleurs']]\n",
    "drm_merge_spe_all.drop(['filtre_produit','couleurs'], axis=1, inplace=True)\n",
    "\n",
    "drm_merge_spe_all.rename(columns = {'stock debut': 'Stock physique en début de camp production (hl)','volume mouvement_x' : 'Récoltes (hl)', 'volume mouvement_y' : 'Sorties de chais (hl)'}, inplace = True)\n",
    "\n",
    "\n",
    "#drm_merge_spe_all"
   ]
  },
  {
   "cell_type": "code",
   "execution_count": null,
   "id": "resident-latter",
   "metadata": {},
   "outputs": [],
   "source": [
    "#AUCUN FILTRE TOUTES LES APPELLATIONS ET TOUTES LES COULEURS\n",
    "\n",
    "drm_recolte_all_all = drm_recolte_spe_all.groupby([\"campagne\"]).sum([\"volume mouvement\"])[[\"volume mouvement\"]]\n",
    "drm_sortie_all_all = drm_sortie_spe_all.groupby([\"campagne\"]).sum([\"volume mouvement\"])[[\"volume mouvement\"]]\n",
    "drm_stock_debut_all_all = drm_stock_debut.groupby([\"campagne\"]).sum([\"stock debut\"])[[\"stock debut\"]]\n",
    "\n",
    "\n",
    "drm_merge_all_all = pd.merge(drm_recolte_all_all, drm_sortie_all_all,how='outer', on=[\"campagne\"])\n",
    "drm_merge_all_all = pd.merge(drm_merge_all_all, drm_stock_debut_all_all ,how='outer', on=[\"campagne\"])\n",
    "\n",
    "drm_merge_all_all = drm_merge_all_all.reset_index()\n",
    "\n",
    "drm_merge_all_all['filtre_produit'] = \"TOUT\"\n",
    "drm_merge_all_all['couleurs'] = \"TOUT\"\n",
    "\n",
    "drm_merge_all_all.index = [drm_merge_all_all['filtre_produit'],drm_merge_all_all['couleurs']]\n",
    "drm_merge_all_all.drop(['filtre_produit','couleurs'], axis=1, inplace=True)\n",
    "\n",
    "drm_merge_all_all.rename(columns = {'stock debut': 'Stock physique en début de camp production (hl)','volume mouvement_x' : 'Récoltes (hl)', 'volume mouvement_y' : 'Sorties de chais (hl)'}, inplace = True)\n",
    "\n",
    "\n",
    "#drm_merge_all_all"
   ]
  },
  {
   "cell_type": "code",
   "execution_count": null,
   "id": "mature-robert",
   "metadata": {},
   "outputs": [],
   "source": [
    "#MERGE DES 3 TABLEAUX : \n",
    "df_final = pd.concat([df_final_spe_spe, drm_merge_spe_all])\n",
    "df_final = pd.concat([df_final, drm_merge_all_all])\n",
    "df_final = df_final.sort_values(by=['filtre_produit','couleurs'])\n",
    "df_final = df_final.fillna(0)\n",
    "df_final = df_final.round({'Récoltes (hl)': 0, 'Sorties de chais (hl)': 0, \"Stock physique en début de camp production (hl)\":0})\n",
    "#df_final"
   ]
  },
  {
   "cell_type": "code",
   "execution_count": null,
   "id": "prospective-knife",
   "metadata": {},
   "outputs": [],
   "source": [
    "def create_graphique(final,appellation,couleur):\n",
    "\n",
    "    # CREATION DU GRAPHE\n",
    "    fig = px.line(final, x=\"campagne\", y=\"value\", color='variable', markers=True, symbol=\"variable\",color_discrete_sequence=[\"blue\",\"green\",\"#ea4f57\"],\n",
    "                  title=\"Le vignoble\",height=650)\n",
    "    fig.update_traces(mode=\"markers+lines\", hovertemplate=None)\n",
    "    fig.update_layout(hovermode=\"x\")\n",
    "    fig.update_layout(title={\n",
    "                        'text': \"<b>LE VIGNOBLE</b>\",\n",
    "                        'y':0.9,\n",
    "                        'x':0.5,\n",
    "                        'xanchor': 'center',\n",
    "                        'yanchor': 'top'},\n",
    "                      title_font_size=24,\n",
    "                      title_font_color=\"#a3a3a3\",\n",
    "                      xaxis_title=None,\n",
    "                      yaxis_title=None,\n",
    "                      legend_title=None,\n",
    "                      paper_bgcolor=\"#F7F7F7\",\n",
    "                      plot_bgcolor = \"#F7F7F7\",\n",
    "                      legend=dict(orientation=\"h\",xanchor = \"center\",x = 0.5),\n",
    "                      legend_itemdoubleclick=False\n",
    "                     )\n",
    "\n",
    "    fig.update_yaxes(tickformat=\",\")\n",
    "    fig.update_layout(separators=\"* .*\")\n",
    "\n",
    "    fig.for_each_xaxis(lambda x: x.update(showgrid=False))\n",
    "    fig.for_each_yaxis(lambda x: x.update(gridcolor='Lightgrey'))\n",
    "    fig.update_xaxes(fixedrange=True,showline=True, linewidth=1, linecolor='Lightgrey')\n",
    "    fig.update_yaxes(fixedrange=True,rangemode=\"tozero\")\n",
    "\n",
    "    fig.update_traces(\n",
    "    hovertemplate=\"<br>\".join([\n",
    "        \"%{y} hl\",\n",
    "    ])\n",
    "    )\n",
    "    #fig.show()\n",
    "\n",
    "    dossier = dossier_graphes+\"/LE_VIGNOBLE/drm/\"+appellation+\"-\"+couleur\n",
    "    pathlib.Path(dossier).mkdir(parents=True, exist_ok=True)\n",
    "    pathlib.Path(dossier).parent.parent.touch()\n",
    "\n",
    "    fig.write_html(dossier+\"/drm-stock-recoltes-sorties.html\",include_plotlyjs=False)\n",
    "\n",
    "    return"
   ]
  },
  {
   "cell_type": "code",
   "execution_count": null,
   "id": "devoted-martial",
   "metadata": {},
   "outputs": [],
   "source": [
    "for bloc in df_final.index.unique():\n",
    "    df = df_final.loc[[bloc]]\n",
    "    df = df.reset_index()\n",
    "\n",
    "    for campagne in lastcampagnes:\n",
    "        if campagne not in df.campagne.unique()[::-1] :\n",
    "            df.loc[len(df)] = [bloc[0], bloc[1],campagne, 0, 0, 0]\n",
    "\n",
    "    df = df.sort_values(by=['campagne'])\n",
    "    df = df.reset_index(drop=True)\n",
    "\n",
    "\n",
    "    df = pd.melt(df, id_vars=['filtre_produit','couleurs','campagne'], value_vars=['Stock physique en début de camp production (hl)','Récoltes (hl)','Sorties de chais (hl)'])\n",
    "    create_graphique(df,bloc[0],bloc[1])"
   ]
  }
 ],
 "metadata": {
  "kernelspec": {
   "display_name": "Python 3",
   "language": "python",
   "name": "python3"
  },
  "language_info": {
   "codemirror_mode": {
    "name": "ipython",
    "version": 3
   },
   "file_extension": ".py",
   "mimetype": "text/x-python",
   "name": "python",
   "nbconvert_exporter": "python",
   "pygments_lexer": "ipython3",
   "version": "3.9.2"
  }
 },
 "nbformat": 4,
 "nbformat_minor": 5
}
