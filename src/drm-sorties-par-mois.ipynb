{
 "cells": [
  {
   "cell_type": "code",
   "execution_count": null,
   "id": "behavioral-flush",
   "metadata": {},
   "outputs": [],
   "source": [
    "import pandas as pd\n",
    "import plotly.express as px\n",
    "import argparse\n",
    "import pathlib"
   ]
  },
  {
   "cell_type": "code",
   "execution_count": null,
   "id": "fixed-dining",
   "metadata": {},
   "outputs": [],
   "source": [
    "path = pathlib.Path().absolute()\n",
    "path = str(path).replace(\"src\",\"\")\n",
    "dossier_graphes=path+\"/graphes/\"\n",
    "csv = path+\"/data/drm/export_bi_mouvements.csv\"  #il manque un ; à la fin du header.\n",
    "source = \"DRM Inter-Rhône\"\n",
    "\n",
    "mois = { \"08\" : \"Août\" , \"09\" : \"Septembre\", \"10\" : \"Octobre\", \"11\" : \"Novembre\" , \"12\" : \"Décembre\",\n",
    "        \"01\" : \"Janvier\", \"02\" : \"Février\", \"03\" : \"Mars\", \"04\" : \"Avril\", \"05\" : \"Mai\", \"06\" : \"Juin\",\n",
    "        \"07\" : \"Juillet\" }\n",
    "\n",
    "mois_sort = { \"Août\" : \"01\" , \"Septembre\" : \"02\", \"Octobre\" : \"03\", \"Novembre\" : \"04\" , \"Décembre\" : \"05\",\n",
    "        \"Janvier\" : \"06\", \"Février\" : \"07\", \"Mars\" : \"08\", \"Avril\" : \"09\", \"Mai\" : \"10\", \"Juin\" : \"11\",\n",
    "        \"Juillet\" : \"12\" }"
   ]
  },
  {
   "cell_type": "code",
   "execution_count": null,
   "id": "civil-turkey",
   "metadata": {},
   "outputs": [],
   "source": [
    "#arguments\n",
    "id_operateur=None\n",
    "\n",
    "parser = argparse.ArgumentParser()\n",
    "parser.add_argument(\"id_operateur\", help=\"Identifiant opérateur\", default=id_operateur, nargs='?')\n",
    "\n",
    "try:\n",
    "   args = parser.parse_args()\n",
    "   id_operateur = args.id_operateur\n",
    "except:\n",
    "   print(\"Arguments pas défaut\")\n"
   ]
  },
  {
   "cell_type": "code",
   "execution_count": null,
   "id": "smooth-melbourne",
   "metadata": {},
   "outputs": [],
   "source": [
    "mouvements = pd.read_csv(csv, sep=\";\",encoding=\"iso8859_15\", low_memory=False)\n",
    "\n",
    "lastcampagnes = mouvements['campagne'].unique()\n",
    "lastcampagnes.sort()\n",
    "lastcampagnes = lastcampagnes[-5:]\n",
    "mouvements = mouvements.query('campagne in @lastcampagnes')\n",
    "\n",
    "mouvements.rename(columns = {'identifiant declarant':'identifiant'}, inplace = True)\n",
    "\n",
    "if(id_operateur):\n",
    "    mouvements = mouvements.query(\"identifiant == @id_operateur\").reset_index()\n",
    "\n",
    "mouvements[\"volume mouvement\"] = mouvements[\"volume mouvement\"]*(-1)\n",
    "mouvements['sorties'] = mouvements[\"type de mouvement\"].str.lower().str.startswith(\"sorties/\")\n",
    "mouvements['filtre_produit'] = mouvements['appellation'] + \"-\" + mouvements['lieu'] + \"-\" +mouvements['certification']+ \"-\" +mouvements['genre']+ \"-\" +mouvements['mention']"
   ]
  },
  {
   "cell_type": "code",
   "execution_count": null,
   "id": "private-battery",
   "metadata": {},
   "outputs": [],
   "source": [
    "### PAR APPELLATION ET COULEUR\n",
    "\n",
    "sorties = mouvements.query(\"sorties == True\")\n",
    "\n",
    "sorties = sorties.groupby([\"identifiant\",\"filtre_produit\",\"couleur\",'campagne','periode']).sum([\"volume mouvement\"])[[\"volume mouvement\"]]\n",
    "sorties = sorties.reset_index()\n",
    "\n",
    "sorties['couleur'] = sorties['couleur'].str.upper()\n",
    "\n",
    "sorties.set_index(['identifiant','filtre_produit','couleur'], inplace = True)\n",
    "\n",
    "sorties['mois'] = sorties[\"periode\"].str.extract('.*(\\d{2})', expand = False)\n",
    "sorties['mois'] = sorties['mois'].map(mois,na_action=None)\n",
    "\n",
    "sorties['ordre_mois']= sorties['mois'].map(mois_sort,na_action=None)\n",
    "\n",
    "sorties_spe_spe = sorties.sort_values(by=[\"identifiant\",'filtre_produit','couleur',\"ordre_mois\",\"campagne\"])\n",
    "\n",
    "#sorties"
   ]
  },
  {
   "cell_type": "code",
   "execution_count": null,
   "id": "positive-steal",
   "metadata": {},
   "outputs": [],
   "source": [
    "# PAR APPELLATIONS\n",
    "\n",
    "sorties_spe_all = sorties_spe_spe.groupby([\"identifiant\",\"filtre_produit\",'campagne','periode',\"mois\",\"ordre_mois\"]).sum([\"volume mouvement\"])[[\"volume mouvement\"]]\n",
    "sorties_spe_all[\"couleur\"] = \"TOUT\"\n",
    "sorties_spe_all = sorties_spe_all.reset_index()\n",
    "sorties_spe_all.set_index(['identifiant','filtre_produit','couleur'], inplace = True)\n",
    "\n",
    "#sorties_spe_all"
   ]
  },
  {
   "cell_type": "code",
   "execution_count": null,
   "id": "positive-regular",
   "metadata": {},
   "outputs": [],
   "source": [
    "#AUCUN FILTRE TOUTES LES APPELLATIONS ET TOUTES LES COULEURS\n",
    "\n",
    "sorties_all_all = sorties_spe_spe.groupby([\"identifiant\",'campagne','periode',\"mois\",\"ordre_mois\"]).sum([\"volume mouvement\"])[[\"volume mouvement\"]]\n",
    "sorties_all_all[\"couleur\"] = \"TOUT\"\n",
    "sorties_all_all[\"filtre_produit\"] = \"TOUT\"\n",
    "sorties_all_all = sorties_all_all.reset_index()\n",
    "\n",
    "sorties_all_all.set_index(['identifiant','filtre_produit','couleur'], inplace = True)\n",
    "\n",
    "#sorties_all_all"
   ]
  },
  {
   "cell_type": "code",
   "execution_count": null,
   "id": "disciplinary-ranch",
   "metadata": {},
   "outputs": [],
   "source": [
    "#CONCATENATION DES 3 TABLEAUX :\n",
    "df_final = pd.concat([sorties_spe_spe, sorties_spe_all])\n",
    "df_final = pd.concat([df_final, sorties_all_all])\n",
    "\n",
    "df_final = df_final.sort_values(by=['identifiant', 'filtre_produit','couleur'])\n",
    "\n",
    "df_final.rename(columns = {'volume mouvement':'volume'}, inplace = True)\n",
    "\n",
    "#df_final\n",
    "tabcouleur = [\"#CFCFCF\", \"#A1A1A1\", \"#5D5D5D\",\"#0A0A0A\",\"#E75047\"]\n",
    "couleurs = tabcouleur[-len(df_final['campagne'].unique()):]"
   ]
  },
  {
   "cell_type": "code",
   "execution_count": null,
   "id": "monthly-rolling",
   "metadata": {},
   "outputs": [],
   "source": [
    "def create_graphe(final,identifiant,appellation,couleur):\n",
    "\n",
    "    # CREATION DU GRAPHE\n",
    "    fig = px.histogram(final, x=\"mois\", y=\"volume\",\n",
    "                 color='campagne', barmode='group',\n",
    "                 height=500,\n",
    "                 color_discrete_sequence=couleurs)\n",
    "    fig.update_layout(title_font_size=24,\n",
    "                      title_font_color=\"rgb(231, 80, 71)\",\n",
    "                      xaxis_title=None,\n",
    "                      yaxis_title=None,\n",
    "                      legend_title=None,\n",
    "                      paper_bgcolor=\"white\",\n",
    "                      plot_bgcolor = \"white\",\n",
    "                      yaxis=dict(tickformat=\".f\"),\n",
    "                      legend=dict(orientation=\"h\",xanchor = \"center\",x = 0.5),\n",
    "                      legend_itemdoubleclick=False\n",
    "                     )\n",
    "    fig.for_each_xaxis(lambda x: x.update(showgrid=False))\n",
    "    fig.for_each_yaxis(lambda x: x.update(gridcolor='Lightgrey'))\n",
    "    fig.update_xaxes(fixedrange=True)\n",
    "    fig.update_yaxes(fixedrange=True)\n",
    "    #fig.show()\n",
    "\n",
    "    dossier = dossier_graphes+\"/\"+identifiant+\"/drm/\"+appellation+\"-\"+couleur\n",
    "    pathlib.Path(dossier).mkdir(parents=True, exist_ok=True)\n",
    "\n",
    "    fig.write_html(dossier+\"/drm-sorties-par-mois.html\",include_plotlyjs=False)\n",
    "\n",
    "    return"
   ]
  },
  {
   "cell_type": "code",
   "execution_count": null,
   "id": "involved-compact",
   "metadata": {},
   "outputs": [],
   "source": [
    "for bloc in df_final.index.unique():\n",
    "    df = df_final.loc[[bloc]]\n",
    "    create_graphe(df,bloc[0],bloc[1],bloc[2])"
   ]
  }
 ],
 "metadata": {
  "kernelspec": {
   "display_name": "Python 3",
   "language": "python",
   "name": "python3"
  },
  "language_info": {
   "codemirror_mode": {
    "name": "ipython",
    "version": 3
   },
   "file_extension": ".py",
   "mimetype": "text/x-python",
   "name": "python",
   "nbconvert_exporter": "python",
   "pygments_lexer": "ipython3",
   "version": "3.9.2"
  }
 },
 "nbformat": 4,
 "nbformat_minor": 5
}
