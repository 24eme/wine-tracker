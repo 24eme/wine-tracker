{
 "cells": [
  {
   "cell_type": "code",
   "execution_count": null,
   "id": "silent-mainland",
   "metadata": {},
   "outputs": [],
   "source": [
    "import pandas as pd\n",
    "import argparse\n",
    "import pathlib\n",
    "from pathlib import Path\n",
    "from datetime import datetime\n",
    "import json\n",
    "import re\n",
    "import collections\n",
    "\n",
    "\n",
    "path = pathlib.Path().absolute()\n",
    "path = str(path).replace(\"/src\",\"\").replace('/00_prealable','')\n",
    "dossier_graphes=path+\"/graphes/\"\n",
    "csv = path+\"/data/drm/export_bi_drm_stock.csv\"  #il manque un ; à la fin du header.\n",
    "csv_contrats = path+\"/data/contrats/export_bi_contrats.csv\"  #il manque un ; à la fin du header.\n",
    "csv_etablissements = path+\"/data/contrats/export_bi_etablissements.csv\" #il manque un ; à la fin du header."
   ]
  },
  {
   "cell_type": "code",
   "execution_count": null,
   "id": "careful-understanding",
   "metadata": {},
   "outputs": [],
   "source": [
    "id_operateur=None\n",
    "\n",
    "parser = argparse.ArgumentParser()\n",
    "parser.add_argument(\"id_operateur\", help=\"Identifiant opérateur\", default=id_operateur, nargs='?')\n",
    "\n",
    "try:\n",
    "    args = parser.parse_args()\n",
    "    id_operateur = args.id_operateur\n",
    "except:\n",
    "    print(\"Arguments pas défaut\")\n",
    "\n",
    "if not id_operateur:\n",
    "    raise Exception(\"manque id_operateur\")"
   ]
  },
  {
   "cell_type": "code",
   "execution_count": null,
   "id": "24f4c67e",
   "metadata": {},
   "outputs": [],
   "source": [
    "etablissements = pd.read_csv(csv_etablissements, sep=\";\",encoding=\"iso8859_15\", low_memory=False, index_col=False)\n",
    "etablissements['familles'] = etablissements['famille'].str.split(' ')\n",
    "etablissements['famille_ok'] = etablissements['familles'].apply(lambda f: f[0] != 'courtier' and ((f[0] == 'producteur') and f[1] == 'cave_particuliere') or (f[0] in ['negociant', 'cave cooperative']))\n",
    "etablissements = etablissements[etablissements['famille_ok']]\n",
    "etablissements['famille'] = etablissements['familles'].apply(lambda f: f[0])\n",
    "\n",
    "etablissements = etablissements[['identifiant','famille', 'raison sociale']]\n",
    "\n",
    "vendeurs = etablissements[etablissements['famille'] == 'producteur']\n",
    "acheteurs = etablissements[etablissements['famille'] != 'producteur']\n"
   ]
  },
  {
   "cell_type": "code",
   "execution_count": null,
   "id": "b7062d9e",
   "metadata": {},
   "outputs": [],
   "source": [
    "drm = pd.read_csv(csv, sep=\";\",encoding=\"iso-8859-1\", low_memory=False, index_col=False)\n",
    "drm['libelle produit'] = drm['libelle produit'].str.replace('ï¿½','é') #problème d'encoddage.\n",
    "\n",
    "contrats = pd.read_csv(csv_contrats,sep=\";\",encoding=\"iso-8859-1\", low_memory=False, index_col=False)\n",
    "contrats['libelle produit'] = contrats['libelle produit'].str.replace('ï¿½','é') #problème d'encoddage."
   ]
  },
  {
   "cell_type": "code",
   "execution_count": null,
   "id": "26199b51",
   "metadata": {},
   "outputs": [],
   "source": [
    "drm = drm[['identifiant', 'appellations', 'lieux', 'certifications', 'genres', 'mentions', 'couleurs', 'libelle produit']].drop_duplicates()\n",
    "\n",
    "drm['filtre_produits'] = drm[['appellations', 'lieux', 'certifications', 'genres', 'mentions', 'couleurs']].apply(lambda rows: '-'.join(rows.values.astype('str')).upper(), axis=1)\n",
    "drm['filtre_appellations'] = drm[['appellations', 'lieux', 'certifications', 'genres', 'mentions']].apply(lambda rows: '-'.join(rows.values.astype('str'))+'-0TOUT', axis=1)\n",
    "drm['libelle_appellations'] = drm['libelle produit'].str.split().apply(lambda libelles: ' '.join(libelles[:-1]))\n",
    "\n",
    "drm_tout = pd.DataFrame()\n",
    "drm_tout['identifiant'] = drm['identifiant']\n",
    "drm_tout['filtre_produits'] = '0TOUT-TOUT'\n",
    "drm_tout['libelle produit'] = 'Toutes les appellations'\n",
    "\n",
    "drm_produits = pd.concat([\n",
    "    drm[['identifiant', 'filtre_produits', 'libelle produit']],\n",
    "    drm[['identifiant', 'filtre_appellations', 'libelle_appellations']].rename(columns = {'libelle_appellations': 'libelle produit', 'filtre_appellations': 'filtre_produits'}),\n",
    "    drm_tout\n",
    "]).sort_values(['identifiant', 'filtre_produits']).drop_duplicates()\n",
    "drm_produits['type'] = 'drm'"
   ]
  },
  {
   "cell_type": "code",
   "execution_count": null,
   "id": "7dafdced",
   "metadata": {},
   "outputs": [],
   "source": [
    "contrat_extract = pd.concat([\n",
    "    contrats[contrats['identifiant acheteur'].isin(acheteurs['identifiant'])][['identifiant acheteur','certification', 'genre', 'appellation', 'mention','lieu', 'couleur', 'cepage', 'libelle produit']].rename(columns = {'identifiant acheteur' : 'identifiant'}),\n",
    "    contrats[contrats['identifiant vendeur'].isin(acheteurs['identifiant'])][['identifiant vendeur','certification', 'genre', 'appellation', 'mention','lieu', 'couleur', 'cepage', 'libelle produit']].rename(columns = {'identifiant vendeur' : 'identifiant'})\n",
    "]).drop_duplicates()\n",
    "\n",
    "contrat_extract['couleur'] = contrat_extract['couleur'].str.upper()\n",
    "contrat_extract['filtre_produits'] = contrat_extract[['appellation', 'lieu', 'certification', 'genre', 'mention', 'couleur']].apply(lambda rows: '-'.join(rows.values.astype('str')).upper(), axis=1)\n",
    "contrat_extract['filtre_appellations'] = contrat_extract[['appellation', 'lieu', 'certification', 'genre', 'mention']].apply(lambda rows: '-'.join(rows.values.astype('str'))+'-0TOUT', axis=1)\n",
    "contrat_extract['libelle_appellations'] = contrat_extract['libelle produit'].str.split().apply(lambda libelles: ' '.join(libelles[:-1]))\n",
    "\n",
    "contrat_tout = pd.DataFrame()\n",
    "contrat_tout['identifiant'] = contrat_extract['identifiant']\n",
    "contrat_tout['filtre_produits'] = '0TOUT-TOUT'\n",
    "contrat_tout['libelle produit'] = 'Toutes les appellations'\n",
    "\n",
    "contrat_produits = pd.concat([\n",
    "    contrat_extract[['identifiant', 'filtre_produits', 'libelle produit']],\n",
    "    contrat_extract[['identifiant', 'filtre_appellations', 'libelle_appellations']].rename(columns = {'libelle_appellations': 'libelle produit', 'filtre_appellations': 'filtre_produits'}),\n",
    "    contrat_tout\n",
    "]\n",
    ").sort_values(['identifiant', 'filtre_produits']).drop_duplicates()\n",
    "contrat_produits['type'] = 'contrat'"
   ]
  },
  {
   "cell_type": "code",
   "execution_count": null,
   "id": "c013b5df",
   "metadata": {},
   "outputs": [],
   "source": [
    "produits = pd.concat([drm_produits, contrat_produits]).set_index(['identifiant'])\n",
    "produits['filtre_produits'] = produits['filtre_produits'].apply(lambda s: s.replace('0TOUT', 'TOUT'))"
   ]
  },
  {
   "cell_type": "code",
   "execution_count": null,
   "id": "5bbee61b",
   "metadata": {},
   "outputs": [],
   "source": [
    "date = datetime.today().strftime('%d/%m/%Y')\n",
    "\n",
    "for id_operateur in produits.index.unique():\n",
    "    \n",
    "    df = produits.loc[[id_operateur]]\n",
    "    \n",
    "    drm = {}\n",
    "    for [filtre, libelle] in df[df['type'] == 'drm'][['filtre_produits', 'libelle produit']].values:\n",
    "        drm[filtre] = libelle\n",
    "\n",
    "    contrats = {}\n",
    "    for [filtre, libelle] in df[df['type'] == 'contrat'][['filtre_produits', 'libelle produit']].values:\n",
    "        contrats[filtre] = libelle\n",
    "    \n",
    "    rs = etablissements[etablissements['identifiant'] == id_operateur]['raison sociale']\n",
    "    if len(rs.values):\n",
    "        rs = rs.values[0]\n",
    "    else:\n",
    "        continue\n",
    "    \n",
    "    dictionary ={\n",
    "        \"name\" : rs,\n",
    "        \"date\" : date,\n",
    "        \"produits\": {\"drm\" : drm, \"contrats\": contrats}\n",
    "    }\n",
    "\n",
    "    dossier = dossier_graphes+id_operateur\n",
    "    pathlib.Path(dossier).mkdir(parents=True, exist_ok=True)\n",
    "    pathlib.Path(dossier).touch()\n",
    "\n",
    "    with open(dossier+\"/\"+id_operateur+\".json\", \"w\") as outfile:\n",
    "        json.dump(dictionary, outfile)"
   ]
  }
 ],
 "metadata": {
  "kernelspec": {
   "display_name": "Python 3 (ipykernel)",
   "language": "python",
   "name": "python3"
  },
  "language_info": {
   "codemirror_mode": {
    "name": "ipython",
    "version": 3
   },
   "file_extension": ".py",
   "mimetype": "text/x-python",
   "name": "python",
   "nbconvert_exporter": "python",
   "pygments_lexer": "ipython3",
   "version": "3.11.2"
  }
 },
 "nbformat": 4,
 "nbformat_minor": 5
}
