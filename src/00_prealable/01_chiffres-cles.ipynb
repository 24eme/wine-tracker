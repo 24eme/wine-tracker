{
 "cells": [
  {
   "cell_type": "code",
   "execution_count": null,
   "id": "unavailable-acquisition",
   "metadata": {},
   "outputs": [],
   "source": [
    "import pandas as pd\n",
    "import argparse\n",
    "import pathlib\n",
    "from pathlib import Path\n",
    "from datetime import datetime\n",
    "import json\n",
    "import re\n",
    "import collections"
   ]
  },
  {
   "cell_type": "code",
   "execution_count": null,
   "id": "czech-painting",
   "metadata": {},
   "outputs": [],
   "source": [
    "path = pathlib.Path().absolute()\n",
    "path = str(path).replace(\"/src\",\"\").replace(\"/00_prealable\",\"\")\n",
    "dossier_graphes=path+\"/graphes/\"\n",
    "csv_contrats = path+\"/data/contrats/export_bi_contrats.csv\"  #il manque un ; à la fin du header.\n",
    "csv_etablissements = path+\"/data/contrats/export_bi_etablissements.csv\" #il manque un ; à la fin du header.\n",
    "csv_mouvements = path+\"/data/drm/export_bi_mouvements.csv\""
   ]
  },
  {
   "cell_type": "code",
   "execution_count": null,
   "id": "wireless-sigma",
   "metadata": {},
   "outputs": [],
   "source": [
    "chiffres = pd.DataFrame()"
   ]
  },
  {
   "cell_type": "code",
   "execution_count": null,
   "id": "frank-suspect",
   "metadata": {},
   "outputs": [],
   "source": [
    "filtre_operateur=None\n",
    "\n",
    "parser = argparse.ArgumentParser()\n",
    "parser.add_argument(\"filtre_operateur\", help=\"Identifiant opérateur\", default=filtre_operateur, nargs='?')\n",
    "\n",
    "try:\n",
    "    args = parser.parse_args()\n",
    "    filtre_operateur = args.filtre_operateur\n",
    "except:\n",
    "    True"
   ]
  },
  {
   "cell_type": "code",
   "execution_count": null,
   "id": "backed-suffering",
   "metadata": {},
   "outputs": [],
   "source": [
    "mouvements = pd.read_csv(csv_mouvements, sep=\";\",encoding=\"iso8859_15\", low_memory=False, index_col=False)\n",
    "mouvements = mouvements[mouvements['genre'] != 'VCI']\n",
    "mouvements = mouvements[mouvements['libelle type'] == 'Suspendu']\n",
    "mouvements.rename(columns = {'identifiant declarant':'identifiant'}, inplace = True)\n",
    "\n",
    "if filtre_operateur:\n",
    "    mouvements = mouvements.query(\"identifiant == @filtre_operateur\").reset_index()\n",
    "\n",
    "lastcampagnes = mouvements['campagne'].unique()\n",
    "lastcampagnes.sort()\n",
    "lastcampagnes = lastcampagnes[-2:]\n",
    "\n",
    "mouvements = mouvements.query('campagne in @lastcampagnes')\n",
    "mouvements = mouvements.query(\"appellation != 'CDP'\")\n",
    "\n",
    "mouvements.rename(columns = {'type de mouvement':'type_de_mouvement'}, inplace = True)\n",
    "typedemouvements = ['sorties/vrac', 'sorties/crd', 'sorties/factures', 'sorties/export','sorties/consommation']\n",
    "mouvements = mouvements.query(\"type_de_mouvement in @typedemouvements\").reset_index()\n",
    "\n",
    "mouvements['mois'] = mouvements['periode'].apply(lambda x: (int(x.split('-')[1]) + 4) % 12)"
   ]
  },
  {
   "cell_type": "code",
   "execution_count": null,
   "id": "subjective-equality",
   "metadata": {},
   "outputs": [],
   "source": [
    "#Sorties du cumul campagne complete\n",
    "chiffres = pd.DataFrame()\n",
    "campagne_n_1 = lastcampagnes[-2]\n",
    "sorties = mouvements.query(\"campagne==@campagne_n_1\")\n",
    "sorties = sorties.groupby([\"identifiant\"]).agg({'periode': max,  'volume mouvement': sum})\n",
    "mois_en_cours = pd.DataFrame()\n",
    "mois_en_cours['mois'] = sorties['periode'].apply(lambda x: (int(x.split('-')[1]) + 4) % 12)\n",
    "mois_en_cours.reset_index(inplace=True)\n",
    "chiffres['cumul_sortie_campagne_n_1'] = sorties['volume mouvement']\n"
   ]
  },
  {
   "cell_type": "code",
   "execution_count": null,
   "id": "transsexual-employee",
   "metadata": {},
   "outputs": [],
   "source": [
    "#Sorties du cumul campagne actuelle\n",
    "\n",
    "campagne_courante = lastcampagnes[-1]\n",
    "sorties = mouvements.query(\"campagne==@campagne_courante\")\n",
    "sorties = sorties.groupby([\"identifiant\"]).agg({'periode': max,  'volume mouvement': sum})\n",
    "mois_en_cours = pd.DataFrame()\n",
    "mois_en_cours['mois'] = sorties['periode'].apply(lambda x: (int(x.split('-')[1]) + 4) % 12)\n",
    "mois_en_cours.reset_index(inplace=True)\n",
    "chiffres['cumul_sortie_campagne_en_cours'] = sorties['volume mouvement']\n",
    "chiffres['evolution_cumul_sortie_campagne_en_cours'] = (sorties['volume mouvement'] - chiffres['cumul_sortie_campagne_n_1']) * 100 / chiffres['cumul_sortie_campagne_n_1']\n"
   ]
  },
  {
   "cell_type": "code",
   "execution_count": null,
   "id": "37236ed6",
   "metadata": {},
   "outputs": [],
   "source": [
    "etablissements = pd.read_csv(csv_etablissements, sep=\";\",encoding=\"iso8859_15\", low_memory=False, index_col=False)\n",
    "etablissements['familles'] = etablissements['famille'].str.split(' ')\n",
    "etablissements['famille_ok'] = etablissements['familles'].apply(lambda f: f[0] != 'courtier' and ((f[0] == 'producteur') and (f[1] == 'cave_particuliere' or f[1] == 'cave_cooperative')) or (f[0] in ['negociant', 'cave cooperative']))\n",
    "etablissements = etablissements[etablissements['famille_ok']]\n",
    "etablissements['famille'] = etablissements['familles'].apply(lambda f: f[0])\n",
    "\n",
    "etablissements = etablissements[['identifiant','famille', 'raison sociale']]\n",
    "\n",
    "vendeurs = etablissements[etablissements['famille'] == 'producteur']\n",
    "acheteurs = etablissements[etablissements['famille'] != 'producteur']"
   ]
  },
  {
   "cell_type": "code",
   "execution_count": null,
   "id": "optical-yahoo",
   "metadata": {},
   "outputs": [],
   "source": [
    "contrats = pd.read_csv(csv_contrats,sep=\";\",encoding=\"iso-8859-1\", low_memory=False, index_col=False)\n",
    "contrats = contrats.query(\"statut == 'SOLDE' or statut == 'NONSOLDE'\")\n",
    "contrats = contrats.query(\"appellation != 'CDP'\")\n",
    "contrats.rename(columns = {'type de vente':'type_de_vente'}, inplace = True)\n",
    "contrats = contrats.query(\"type_de_vente == 'vrac'\")\n",
    "contrats['libelle produit'] = contrats['libelle produit'].str.replace('ï¿½','é') #problème d'encoddage.\n",
    "contrats['date de validation'] = pd.to_datetime(contrats['date de validation'], utc=True)\n",
    "contrats = contrats.query('campagne in @lastcampagnes')\n",
    "\n",
    "contrat_extract = pd.concat([\n",
    "    contrats[contrats['identifiant acheteur'].isin(acheteurs['identifiant'])][['identifiant acheteur', 'libelle produit', 'volume propose (en hl)']].rename(columns = {'identifiant acheteur' : 'identifiant'}),\n",
    "    contrats[contrats['identifiant vendeur'].isin(acheteurs['identifiant'])][['identifiant vendeur', 'libelle produit', 'volume propose (en hl)']].rename(columns = {'identifiant vendeur' : 'identifiant'})\n",
    "]).drop_duplicates()\n",
    "\n",
    "\n",
    "chiffres['volume_contractualisation'] = contrat_extract.groupby(['identifiant'])['volume propose (en hl)'].sum()\n",
    "chiffres['evolution_par_rapport_a_n_1'] = contrat_extract.groupby(['identifiant'])['volume propose (en hl)'].sum() * 0"
   ]
  },
  {
   "cell_type": "code",
   "execution_count": null,
   "id": "523ff642",
   "metadata": {},
   "outputs": [],
   "source": [
    "chiffres.fillna(0, inplace=True)"
   ]
  },
  {
   "cell_type": "code",
   "execution_count": null,
   "id": "ceramic-chrome",
   "metadata": {},
   "outputs": [],
   "source": [
    "for id_operateur in chiffres.index:\n",
    "    dossier = dossier_graphes+id_operateur\n",
    "    pathlib.Path(dossier).mkdir(parents=True, exist_ok=True)\n",
    "    pathlib.Path(dossier).touch()\n",
    "\n",
    "    with open(dossier+\"/\"+id_operateur+\"_chiffre.json\", \"w\") as outfile:\n",
    "        outfile.write(chiffres.loc[id_operateur].to_json())\n",
    "        outfile.close()"
   ]
  },
  {
   "cell_type": "code",
   "execution_count": null,
   "id": "1ae1024c",
   "metadata": {},
   "outputs": [],
   "source": []
  }
 ],
 "metadata": {
  "kernelspec": {
   "display_name": "Python 3 (ipykernel)",
   "language": "python",
   "name": "python3"
  },
  "language_info": {
   "codemirror_mode": {
    "name": "ipython",
    "version": 3
   },
   "file_extension": ".py",
   "mimetype": "text/x-python",
   "name": "python",
   "nbconvert_exporter": "python",
   "pygments_lexer": "ipython3",
   "version": "3.11.2"
  }
 },
 "nbformat": 4,
 "nbformat_minor": 5
}
